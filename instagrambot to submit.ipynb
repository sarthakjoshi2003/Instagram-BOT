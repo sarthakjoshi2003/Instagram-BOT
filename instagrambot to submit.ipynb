{
 "cells": [
  {
   "cell_type": "code",
   "execution_count": null,
   "id": "1de20ff5",
   "metadata": {},
   "outputs": [],
   "source": [
    "from selenium import webdriver\n",
    "from selenium.webdriver.chrome.service import Service\n",
    "from bs4 import BeautifulSoup as bs\n",
    "from selenium.webdriver.common.by import  By\n",
    "from selenium.webdriver.support.ui import WebDriverWait\n",
    "from selenium.webdriver.common.action_chains import ActionChains\n",
    "import time\n",
    "from selenium.webdriver.support import expected_conditions as EC\n",
    "serv_obj=Service(\"D:\\webbrow\\chromedriver.exe\")\n",
    "driver=webdriver.Chrome(service=serv_obj)"
   ]
  },
  {
   "cell_type": "code",
   "execution_count": null,
   "id": "308c7a07",
   "metadata": {},
   "outputs": [],
   "source": [
    "driver.maximize_window()\n"
   ]
  },
  {
   "cell_type": "markdown",
   "id": "7a00f31a",
   "metadata": {},
   "source": [
    "# login the instagram"
   ]
  },
  {
   "cell_type": "code",
   "execution_count": null,
   "id": "1ffe9475",
   "metadata": {
    "scrolled": true
   },
   "outputs": [],
   "source": [
    "driver.get(\"https://www.instagram.com/?hl=en\")\n",
    "wait=WebDriverWait(driver,10)\n",
    "wait.until(EC.presence_of_element_located((By.NAME,\"username\")))\n",
    "userfield=driver.find_element(By.NAME,\"username\")\n",
    "passwordfield=driver.find_element(By.NAME,\"password\")\n",
    "username=input()\n",
    "password=input()\n",
    "userfield.send_keys(username)\n",
    "passwordfield.send_keys(password)\n",
    "lg_btn=driver.find_element(By.XPATH,\"//button[contains(@class,'_acan _acap _acas')]\")\n",
    "lg_btn.click()\n",
    "wait.until(EC.presence_of_element_located((By.CSS_SELECTOR,\"div._ac8f\")))\n",
    "not_save=driver.find_element(By.CSS_SELECTOR,\"div._ac8f\")\n",
    "not_save.click()\n",
    "wait.until(EC.presence_of_element_located((By.CSS_SELECTOR,\"button._a9--._a9_1\")))\n",
    "not_now=driver.find_element(By.CSS_SELECTOR,\"button._a9--._a9_0\")\n",
    "not_now.click()\n",
    "\n",
    "\n"
   ]
  },
  {
   "cell_type": "markdown",
   "id": "884fe54b",
   "metadata": {},
   "source": [
    "# list items related to food:"
   ]
  },
  {
   "cell_type": "code",
   "execution_count": null,
   "id": "c78b9f1d",
   "metadata": {},
   "outputs": [],
   "source": [
    "driver.refresh()\n",
    "wait.until(EC.presence_of_all_elements_located((By.TAG_NAME,\"svg\")))\n",
    "bread=driver.find_elements(By.TAG_NAME,\"svg\")\n",
    "for i in bread:\n",
    "    var=i.get_attribute(\"aria-label\")\n",
    "    \n",
    "    if(var==\"Search\"):\n",
    "        try:\n",
    "            driver.find_element(By.XPATH,\"//input[@aria-label='Search input']\")\n",
    "        except:\n",
    "            i.click()\n",
    "        break\n",
    "search_box=driver.find_element(By.XPATH,\"//input[@aria-label='Search input']\")\n",
    "val_to_search=\"food\"\n",
    "\n",
    "search_box.send_keys(val_to_search)\n",
    "wait.until(EC.presence_of_element_located((By.CSS_SELECTOR,\"div.xhtitgo.xh8yej3.x1n2onr6.x5yr21d.xdt5ytf.x78zum5.x1wzhzgj.x6s0dn4 div._aacl._aaco._aacw._aacx._aad6\")))\n",
    "search_results=driver.find_elements(By.CSS_SELECTOR,\"div.xhtitgo.xh8yej3.x1n2onr6.x5yr21d.xdt5ytf.x78zum5.x1wzhzgj.x6s0dn4 div._aacl._aaco._aacw._aacx._aad6\")\n",
    "for result in search_results:\n",
    "        if(len(result.text)>0 and result.text[0]!=\"#\"):\n",
    "            print(result.text)\n",
    "# <div class=\"_ab8w  _ab94 _ab99 _ab9h _ab9k _ab9p  _ab9- _abcm\" style=\"height: 100%;\"><div class=\"_aacl _aaco _aacw _aad6 _aade\">Follow</div></div>"
   ]
  },
  {
   "cell_type": "markdown",
   "id": "401b96fb",
   "metadata": {},
   "source": [
    "Searching account  \"so delhi\""
   ]
  },
  {
   "cell_type": "code",
   "execution_count": null,
   "id": "40a0440c",
   "metadata": {},
   "outputs": [],
   "source": [
    "if(driver.current_url!=\"https://www.instagram.com/sodelhi/\"):\n",
    "    \n",
    "    try:\n",
    "        driver.find_element(By.XPATH,\"//input[@aria-label='Search input']\")\n",
    "    except:    \n",
    "        wait.until(EC.presence_of_all_elements_located((By.TAG_NAME,\"svg\")))\n",
    "        bread=driver.find_elements(By.TAG_NAME,\"svg\")\n",
    "        for i in bread:\n",
    "            var=i.get_attribute(\"aria-label\")\n",
    "            if(var==\"Search\"):\n",
    "                i.click()\n",
    "                break\n",
    "    search_box=driver.find_element(By.XPATH,\"//input[@aria-label='Search input']\")\n",
    "    account=\"So Delhi\"\n",
    "    search_box.clear()\n",
    "    search_box.send_keys(account)\n",
    "    wait.until(EC.presence_of_element_located((By.CSS_SELECTOR,\"div.xhtitgo.xh8yej3.x1n2onr6.x5yr21d.xdt5ytf.x78zum5.x1wzhzgj.x6s0dn4 div._aacl._aaco._aacw._aacx._aad6\")))\n",
    "    search_results=driver.find_elements(By.CSS_SELECTOR,\"div.xhtitgo.xh8yej3.x1n2onr6.x5yr21d.xdt5ytf.x78zum5.x1wzhzgj.x6s0dn4 div._aacl._aaco._aacw._aacx._aad6\")\n",
    "    search_results[0].click()\n",
    "    \n"
   ]
  },
  {
   "cell_type": "markdown",
   "id": "3b9022f8",
   "metadata": {},
   "source": [
    "# follow handle:"
   ]
  },
  {
   "cell_type": "code",
   "execution_count": null,
   "id": "c82369e2",
   "metadata": {},
   "outputs": [],
   "source": [
    "if driver.current_url!=\"https://www.instagram.com/sodelhi/\":\n",
    "    driver.get(\"https://www.instagram.com/sodelhi/\")\n",
    "    wait.until(EC.presence_of_element_located((By.CSS_SELECTOR,\"div._ab8w._ab94._ab99._ab9h._ab9k._ab9p._ab9-._abcm>div._aacl._aaco._aacw._aad6._aade\")))\n",
    "element=driver.find_element(By.CSS_SELECTOR,\"div._ab8w._ab94._ab99._ab9h._ab9k._ab9p._ab9-._abcm>div._aacl._aaco._aacw._aad6._aade\")\n",
    "if(element.text!=\"Follow\"):\n",
    "    print(\"already_following\")\n",
    "else:\n",
    "    element.click()"
   ]
  },
  {
   "cell_type": "markdown",
   "id": "d98168f0",
   "metadata": {},
   "source": [
    "# unfollow handle:"
   ]
  },
  {
   "cell_type": "code",
   "execution_count": null,
   "id": "1c77ca20",
   "metadata": {},
   "outputs": [],
   "source": [
    "try:\n",
    "    unfollow_btn=driver.find_element(By.CSS_SELECTOR,\"button._a9--._a9-_\")\n",
    "    unfollow_btn.click()\n",
    "except:\n",
    "    if driver.current_url!=\"https://www.instagram.com/sodelhi/\":\n",
    "        driver.get(\"https://www.instagram.com/sodelhi/\")\n",
    "        wait.until(EC.presence_of_element_located((By.CSS_SELECTOR,\"div._ab8w._ab94._ab99._ab9h._ab9k._ab9p._ab9-._abcm>div._aacl._aaco._aacw._aad6._aade\")))\n",
    "    element=driver.find_element(By.CSS_SELECTOR,\"div._ab8w._ab94._ab99._ab9h._ab9k._ab9p._ab9-._abcm>div._aacl._aaco._aacw._aad6._aade\")\n",
    "    if(element.text==\"Follow\"):\n",
    "        print(\"already_unfollowed\")\n",
    "    else:\n",
    "        element.click()\n",
    "        wait.until(EC.presence_of_element_located((By.CSS_SELECTOR,\"button._a9--._a9-_\")))\n",
    "        unfollow_btn=driver.find_element(By.CSS_SELECTOR,\"button._a9--._a9-_\")\n",
    "        unfollow_btn.click()"
   ]
  },
  {
   "cell_type": "code",
   "execution_count": null,
   "id": "fcabd1a8",
   "metadata": {
    "scrolled": true
   },
   "outputs": [],
   "source": [
    "account=\"dilsefoodie\"\n",
    "from bs4 import BeautifulSoup as bs\n",
    "if driver.current_url !=\"https://www.instagram.com/{}/\".format(account):\n",
    "    driver.get(\"https://www.instagram.com/{}/\".format(account))\n",
    "    wait.until(EC.presence_of_all_elements_located((By.CSS_SELECTOR,\"div._aagw\")))\n",
    "ele=driver.find_element(By.CSS_SELECTOR,\"div._aagw\") \n",
    "ele.click()\n",
    "for i in range(30):\n",
    "    wait.until(EC.presence_of_element_located((By.CSS_SELECTOR,\"section._aamu._ae3_._ae47._ae48\")))\n",
    "    like_button=driver.find_element(By.CSS_SELECTOR,\"section._aamu._ae3_._ae47._ae48>span._aamw\")\n",
    "    like_unlike=bs(like_button.get_attribute(\"innerHTML\"),\"html.parser\")\n",
    "    if(like_unlike.find(\"svg\").attrs.get(\"aria-label\")==\"Like\"):\n",
    "        like_button.click()\n",
    "    else:\n",
    "        print(\"already_liked\")\n",
    "    next=driver.find_element(By.CSS_SELECTOR,\"div._aaqg._aaqh\")\n",
    "    next.click()"
   ]
  },
  {
   "cell_type": "markdown",
   "id": "c29d4541",
   "metadata": {},
   "source": [
    "# unlike n number of  posts in one go"
   ]
  },
  {
   "cell_type": "code",
   "execution_count": null,
   "id": "55c14ddb",
   "metadata": {},
   "outputs": [],
   "source": [
    "account=\"dilsefoodie\"\n",
    "if driver.current_url !=\"https://www.instagram.com/{}/\".format(account):\n",
    "    driver.get(\"https://www.instagram.com/{}/\".format(account))\n",
    "    wait.until(EC.presence_of_all_elements_located((By.CSS_SELECTOR,\"div._aagw\")))\n",
    "ele=driver.find_element(By.CSS_SELECTOR,\"div._aagw\") \n",
    "ele.click()\n",
    "for i in range(30):\n",
    "    wait.until(EC.presence_of_element_located((By.CSS_SELECTOR,\"section._aamu._ae3_._ae47._ae48\")))\n",
    "    like_button=driver.find_element(By.CSS_SELECTOR,\"section._aamu._ae3_._ae47._ae48>span._aamw\")\n",
    "    like_unlike=bs(like_button.get_attribute(\"innerHTML\"),\"html.parser\")\n",
    "    if(like_unlike.find(\"svg\").attrs.get(\"aria-label\")==\"Like\"):\n",
    "        print(\"already_unliked\")\n",
    "    else:\n",
    "        like_button.click()\n",
    "        \n",
    "    next=driver.find_element(By.CSS_SELECTOR,\"div._aaqg._aaqh\")\n",
    "    next.click()"
   ]
  },
  {
   "cell_type": "markdown",
   "id": "3ad8184d",
   "metadata": {},
   "source": [
    "# followers - of-  foodtalkindia:\n"
   ]
  },
  {
   "cell_type": "code",
   "execution_count": null,
   "id": "ffcc8bc6",
   "metadata": {},
   "outputs": [],
   "source": [
    "\n",
    "\n",
    "account=\"foodtalkindia\"\n",
    "url=\"https://www.instagram.com/{}/\".format(account)\n",
    "if driver.current_url != url:\n",
    "    driver.get(url)\n",
    "wait.until(EC.presence_of_element_located((By.PARTIAL_LINK_TEXT,\"followers\")))\n",
    "followings=driver.find_element(By.PARTIAL_LINK_TEXT,\"followers\")\n",
    "followings.click()\n",
    "wait.until(EC.presence_of_element_located((By.CSS_SELECTOR,\"div._aano\")))\n",
    "ele=driver.execute_script(\"return document.querySelectorAll('div._aano');\")\n",
    "ele=ele[0]\n",
    "no_scrolled=0\n",
    "\n",
    "wait.until(EC.presence_of_element_located((By.CSS_SELECTOR,\"div._aacl._aaco._aacu._aacy._aad6\")))\n",
    "check=driver.find_element(By.CSS_SELECTOR,\"div._aacl._aaco._aacu._aacy._aad6\")\n",
    "\n",
    "if(\"Only\" in check.text):\n",
    "    print(\"not allowed to check all followers only this many are visible\")\n",
    "    all_follower_username=driver.find_elements(By.CSS_SELECTOR,\"div._ab8y._ab94._ab97._ab9f._ab9k._ab9p._abcm\")\n",
    "    for follower in all_follower_username[:500]:\n",
    "        print(follower.text)\n",
    "else:\n",
    "    while no_scrolled<500 :\n",
    "        followers=driver.find_elements(By.CSS_SELECTOR,\"div._aacl._aaco._aacu._aacy._aada\")\n",
    "        no_scrolled=len(followers)\n",
    "        driver.execute_script(\"arguments[0].scrollBy(0,1000);\",ele)\n",
    "    #     print(no_scrolled)\n",
    "    all_follower_username=driver.find_elements(By.CSS_SELECTOR,\"div._ab8y._ab94._ab97._ab9f._ab9k._ab9p._abcm\")\n",
    "    for follower in all_follower_username[:500]:\n",
    "        print(follower.text)"
   ]
  },
  {
   "cell_type": "markdown",
   "id": "f5fe6124",
   "metadata": {},
   "source": [
    "# followers of so-delhi:"
   ]
  },
  {
   "cell_type": "code",
   "execution_count": null,
   "id": "c47ac137",
   "metadata": {},
   "outputs": [],
   "source": [
    "a=ActionChains(driver)\n",
    "account=\"sodelhi\"\n",
    "url=\"https://www.instagram.com/{}/\".format(account)\n",
    "if driver.current_url != url:\n",
    "    driver.get(url)\n",
    "wait.until(EC.presence_of_element_located((By.PARTIAL_LINK_TEXT,\"followers\")))\n",
    "followings=driver.find_element(By.PARTIAL_LINK_TEXT,\"followers\")\n",
    "followings.click()\n",
    "wait.until(EC.presence_of_element_located((By.CSS_SELECTOR,\"div._aano\")))\n",
    "ele=driver.execute_script(\"return document.querySelectorAll('div._aano');\")\n",
    "ele=ele[0]\n",
    "no_scrolled=0\n",
    "\n",
    "while no_scrolled<500 :\n",
    "    followers=driver.find_elements(By.CSS_SELECTOR,\"div._ab8y._ab94._ab97._ab9f._ab9k._ab9p._abcm\")\n",
    "    no_scrolled=len(followers)\n",
    "#     a.move_to_element(followers[len(followers)-1]).perform()\n",
    "    driver.execute_script(\"arguments[0].scrollBy(0,1000);\",ele)\n",
    "#     print(no_scrolled)\n",
    "all_follower_username=driver.find_elements(By.CSS_SELECTOR,\"div._ab8y._ab94._ab97._ab9f._ab9k._ab9p._abcm\")\n",
    "for follower in all_follower_username[:500]:\n",
    "    print(follower.text)"
   ]
  },
  {
   "cell_type": "markdown",
   "id": "b688b766",
   "metadata": {},
   "source": [
    "# people those are following foodtalkindia ,I am following them but they are not following me"
   ]
  },
  {
   "cell_type": "code",
   "execution_count": null,
   "id": "b3eff8c8",
   "metadata": {},
   "outputs": [],
   "source": [
    "followers_OF_FOODTALKindia=set()\n",
    "followers_of_my_account=set()\n",
    "followings_of_my_account=set()\n",
    "# ##\n",
    "# -\n",
    "# followers of foortalkindia;\n",
    "# -\n",
    "# -\n",
    "# ##\n",
    "\n",
    "\n",
    "account=\"foodtalkindia\"\n",
    "url=\"https://www.instagram.com/{}/\".format(account)\n",
    "if driver.current_url != url:\n",
    "    driver.get(url)\n",
    "wait.until(EC.presence_of_element_located((By.PARTIAL_LINK_TEXT,\"followers\")))\n",
    "followings=driver.find_element(By.PARTIAL_LINK_TEXT,\"followers\")\n",
    "followings.click()\n",
    "wait.until(EC.presence_of_element_located((By.CSS_SELECTOR,\"div._aano\")))\n",
    "ele=driver.execute_script(\"return document.querySelectorAll('div._aano');\")\n",
    "ele=ele[0]\n",
    "no_scrolled=0\n",
    "\n",
    "wait.until(EC.presence_of_element_located((By.CSS_SELECTOR,\"div._aacl._aaco._aacu._aacy._aad6\")))\n",
    "check=driver.find_element(By.CSS_SELECTOR,\"div._aacl._aaco._aacu._aacy._aad6\")\n",
    "\n",
    "if(\"Only\" in check.text):\n",
    "    print(\"not allowed to check all followers only this many are visible\")\n",
    "    all_follower_username=driver.find_elements(By.CSS_SELECTOR,\"div._ab8y._ab94._ab97._ab9f._ab9k._ab9p._abcm\")\n",
    "    for follower in all_follower_username[:500]:\n",
    "        followers_OF_FOODTALKindia.add(follower.text)\n",
    "else:\n",
    "    while no_scrolled<500 :\n",
    "        followers=driver.find_elements(By.CSS_SELECTOR,\"div._aacl._aaco._aacu._aacy._aada\")\n",
    "        no_scrolled=len(followers)\n",
    "        driver.execute_script(\"arguments[0].scrollBy(0,1000);\",ele)\n",
    "    #     print(no_scrolled)\n",
    "    all_follower_username=driver.find_elements(By.CSS_SELECTOR,\"div._ab8y._ab94._ab97._ab9f._ab9k._ab9p._abcm\")\n",
    "    for follower in all_follower_username[:500]:\n",
    "        followers_OF_FOODTALKindia.add(follower.text)\n",
    "        \n",
    "# #\n",
    "# #\n",
    "# #\n",
    "# my profile\n",
    "# #\n",
    "# #\n",
    "# #\n",
    "url=\"https://www.instagram.com/\"\n",
    "if driver.current_url != url:\n",
    "    driver.get(url)\n",
    "wait.until(EC.presence_of_element_located((By.CSS_SELECTOR,\"img._aa8j\")))\n",
    "profile_link=driver.find_element(By.CSS_SELECTOR,\"img._aa8j\")\n",
    "profile_link.click()\n",
    "profile_url=driver.current_url\n",
    "\n",
    "# #\n",
    "# #\n",
    "# #\n",
    "# #\n",
    "# #\n",
    "# #\n",
    "# my followers\n",
    "# #\n",
    "# #\n",
    "# #\n",
    "# #\n",
    "# #\n",
    "# #\n",
    "driver.get(profile_url)\n",
    "wait.until(EC.presence_of_element_located((By.PARTIAL_LINK_TEXT,\"followers\")))\n",
    "totl_followers=int(driver.find_elements(By.CSS_SELECTOR,\"span._ac2a\")[1].text)\n",
    "followings=driver.find_element(By.PARTIAL_LINK_TEXT,\"followers\")\n",
    "followings.click()\n",
    "wait.until(EC.presence_of_element_located((By.CSS_SELECTOR,\"div._aano\")))\n",
    "ele=driver.execute_script(\"return document.querySelectorAll('div._aano');\")\n",
    "ele=ele[0]\n",
    "no_scrolled=0\n",
    "print(totl_followers)\n",
    "while no_scrolled<totl_followers:\n",
    "    followers=driver.find_elements(By.CSS_SELECTOR,\"div._ab8y._ab94._ab97._ab9f._ab9k._ab9p._abcm\")\n",
    "    no_scrolled=len(followers)\n",
    "    \n",
    "    driver.execute_script(\"arguments[0].scrollBy(0,1000);\",ele)\n",
    "all_follower_username=driver.find_elements(By.CSS_SELECTOR,\"div._ab8y._ab94._ab97._ab9f._ab9k._ab9p._abcm\")\n",
    "for follower in all_follower_username:\n",
    "    followers_of_my_account.add(follower.text)\n",
    "# #\n",
    "# #\n",
    "# #\n",
    "# #\n",
    "# #\n",
    "# following of my account\n",
    "# #\n",
    "# #\n",
    "# #\n",
    "# #\n",
    "# #\n",
    "# #\n",
    "# #\n",
    "driver.get(profile_url)\n",
    "wait.until(EC.presence_of_element_located((By.PARTIAL_LINK_TEXT,\"following\")))\n",
    "totl_followings=int(driver.find_elements(By.CSS_SELECTOR,\"span._ac2a\")[2].text)\n",
    "followings=driver.find_element(By.PARTIAL_LINK_TEXT,\"following\")\n",
    "followings.click()\n",
    "wait.until(EC.presence_of_element_located((By.CSS_SELECTOR,\"div._aano\")))\n",
    "ele=driver.execute_script(\"return document.querySelectorAll('div._aano');\")\n",
    "ele=ele[0]\n",
    "no_scrolled=0\n",
    "print(totl_followings)\n",
    "while no_scrolled<totl_followings:\n",
    "    followers=driver.find_elements(By.CSS_SELECTOR,\"div._ab8y._ab94._ab97._ab9f._ab9k._ab9p._abcm\")\n",
    "    no_scrolled=len(followers)\n",
    "    \n",
    "    driver.execute_script(\"arguments[0].scrollBy(0,1000);\",ele)\n",
    "all_following_username=driver.find_elements(By.CSS_SELECTOR,\"div._ab8y._ab94._ab97._ab9f._ab9k._ab9p._abcm\")\n",
    "for follower in all_following_username[:totl_followings]:\n",
    "    followings_of_my_account.add(follower.text)\n",
    "\n",
    "# print(*followers_OF_FOODTALKindia,sep=\",\")\n",
    "# print(*followers_of_my_account,sep=\",\")\n",
    "# print(*followings_of_my_account,sep=\",\")\n",
    "print(\"list of profiles who are followers of foodtalkindia I am following them but they are not following me:\")\n",
    "output=\n",
    "print(*(followers_OF_FOODTALKindia.intesection(followings_of_my_account.difference(followings_of_my_account.intersection(followers_of_my_account)))))"
   ]
  },
  {
   "cell_type": "markdown",
   "id": "8e3992a4",
   "metadata": {},
   "source": [
    "## people whom I follow but they dont follow"
   ]
  },
  {
   "cell_type": "code",
   "execution_count": null,
   "id": "86c79509",
   "metadata": {},
   "outputs": [],
   "source": [
    "print(\"people whom I follow but they dont follow\")\n",
    "print(*followings_of_my_account.difference(followings_of_my_account.intersection(followers_of_my_account)),sep=\",\")"
   ]
  },
  {
   "cell_type": "markdown",
   "id": "a583d0cd",
   "metadata": {},
   "source": [
    "# Stories of Coding Ninjas profile:"
   ]
  },
  {
   "cell_type": "code",
   "execution_count": null,
   "id": "dba72f6b",
   "metadata": {},
   "outputs": [],
   "source": [
    "account=\"coding.ninjas\"\n",
    "url=\"https://www.instagram.com/{}/\".format(account)\n",
    "if(driver.current_url!=url):\n",
    "    driver.get(url)\n",
    "    wait.until(EC.presence_of_element_located((By.CSS_SELECTOR,\"div.xnc68me.xzycmdw.x1qql9gs.x8efi63.x6ipk99.x1n2onr6.xl56j7k.xdt5ytf.x78zum5.x2lah0s>div._aarf\")))\n",
    "time.sleep(2)\n",
    "ele=driver.find_element(By.CSS_SELECTOR,\"div.xnc68me.xzycmdw.x1qql9gs.x8efi63.x6ipk99.x1n2onr6.xl56j7k.xdt5ytf.x78zum5.x2lah0s>div._aarf\")\n",
    "if(ele.get_attribute(\"aria-disabled\")==\"false\"):\n",
    "    canvas=driver.find_element(By.TAG_NAME,\"canvas\")\n",
    "    height_canvas=canvas.get_attribute(\"height\")\n",
    "    if(height_canvas==\"210\"):\n",
    "        ele.click()\n",
    "        wait.until(EC.presence_of_element_located((By.CSS_SELECTOR,\"div._9zm2\")))\n",
    "        while driver.current_url!=url:\n",
    "            btn_next=driver.find_element(By.CSS_SELECTOR,\"div._9zm2\")\n",
    "            time.sleep(2)\n",
    "            btn_next.click()\n",
    "        \n",
    "    else:\n",
    "        print(\"1.already viewed the story\")\n",
    "else:\n",
    "    print(\"2.there are no stories_to view\")\n"
   ]
  },
  {
   "cell_type": "code",
   "execution_count": null,
   "id": "b0a2c4e4",
   "metadata": {},
   "outputs": [],
   "source": [
    "driver.quit()"
   ]
  },
  {
   "cell_type": "code",
   "execution_count": null,
   "id": "83ebf875",
   "metadata": {},
   "outputs": [],
   "source": []
  },
  {
   "cell_type": "code",
   "execution_count": null,
   "id": "174fcc64",
   "metadata": {},
   "outputs": [],
   "source": []
  },
  {
   "cell_type": "code",
   "execution_count": null,
   "id": "02ceac18",
   "metadata": {},
   "outputs": [],
   "source": []
  }
 ],
 "metadata": {
  "kernelspec": {
   "display_name": "Python 3 (ipykernel)",
   "language": "python",
   "name": "python3"
  },
  "language_info": {
   "codemirror_mode": {
    "name": "ipython",
    "version": 3
   },
   "file_extension": ".py",
   "mimetype": "text/x-python",
   "name": "python",
   "nbconvert_exporter": "python",
   "pygments_lexer": "ipython3",
   "version": "3.9.7"
  }
 },
 "nbformat": 4,
 "nbformat_minor": 5
}
