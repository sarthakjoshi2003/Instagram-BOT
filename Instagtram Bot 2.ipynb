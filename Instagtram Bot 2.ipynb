{
 "cells": [
  {
   "cell_type": "markdown",
   "id": "c3d49dff",
   "metadata": {},
   "source": [
    "# Instagram Bot 2\n",
    "***********************************************************\n",
    "inorder to do this project we used two libraries Selenium extensively and Beautiful Soup to some extent\n",
    "so in the next cell we have imported the dependencies related to the project\n",
    "************************************************************"
   ]
  },
  {
   "cell_type": "code",
   "execution_count": 1,
   "id": "83644e92",
   "metadata": {},
   "outputs": [],
   "source": [
    "from selenium import webdriver\n",
    "from selenium.webdriver.chrome.service import Service\n",
    "from bs4 import BeautifulSoup as bs\n",
    "from selenium.webdriver.common.by import  By\n",
    "from selenium.webdriver.support.ui import WebDriverWait\n",
    "from selenium.webdriver.common.action_chains import ActionChains\n",
    "import time\n",
    "from selenium.webdriver.support import expected_conditions as EC\n",
    "import pandas as pd\n",
    "import seaborn as sns\n",
    "import matplotlib.pyplot as plt\n",
    "serv_obj=Service(\"D:\\webbrow\\chromedriver.exe\")\n",
    "driver=webdriver.Chrome(service=serv_obj)"
   ]
  },
  {
   "cell_type": "markdown",
   "id": "bb94e46f",
   "metadata": {},
   "source": [
    "# login the instagram\n",
    "*********************************\n",
    "\n",
    "Login to your Instagram Handle\n",
    "Submit with sample username and password\n",
    "\n",
    "solution) \n",
    "in order to achieve the goal I have followed following steps:  \n",
    "1)accessed the instagram homepage that directed to the login page  \n",
    "2)located  the text field for username   \n",
    "3)located the textfield containing the passwords  \n",
    "4)send keys there  \n",
    "5)and loged into the  page  \n",
    "\n",
    "************************************"
   ]
  },
  {
   "cell_type": "code",
   "execution_count": 2,
   "id": "6ad05a28",
   "metadata": {},
   "outputs": [],
   "source": [
    "driver.get(\"https://www.instagram.com/?hl=en\")\n",
    "wait=WebDriverWait(driver,10)\n",
    "wait.until(EC.presence_of_element_located((By.NAME,\"username\")))\n",
    "userfield=driver.find_element(By.NAME,\"username\")\n",
    "passwordfield=driver.find_element(By.NAME,\"password\")\n",
    "username=\"demo_user\"\n",
    "password=\"demo_password\"\n",
    "userfield.send_keys(username)\n",
    "passwordfield.send_keys(password)\n",
    "lg_btn=driver.find_element(By.XPATH,\"//button[contains(@class,'_acan _acap _acas')]\")\n",
    "lg_btn.click()\n",
    "wait.until(EC.presence_of_element_located((By.CSS_SELECTOR,\"div._ac8f\")))\n",
    "not_save=driver.find_element(By.CSS_SELECTOR,\"div._ac8f\")\n",
    "not_save.click()\n",
    "wait.until(EC.presence_of_element_located((By.CSS_SELECTOR,\"button._a9--._a9_1\")))\n",
    "not_now=driver.find_element(By.CSS_SELECTOR,\"button._a9--._a9_0\")\n",
    "not_now.click()\n",
    "\n",
    "    \n",
    "\n",
    "\n"
   ]
  },
  {
   "cell_type": "markdown",
   "id": "14376764",
   "metadata": {},
   "source": [
    "# Question1"
   ]
  },
  {
   "cell_type": "markdown",
   "id": "fea0d40c",
   "metadata": {},
   "source": [
    "**************************************************************\n",
    "\n",
    "# Now your friend has followed a lot of different food bloggers, he needs to analyse the habits of these bloggers.\n",
    "From the list of instagram handles you obtained when you searched ‘food’ in previous project. Open the first 10 handles and find the top 5 which have the highest number of followers\n",
    "Now Find the number of posts these handles have done in the previous 3 days.\n",
    "Depict this information using a suitable graph.\n",
    "\n",
    "\n",
    "**************************************************************"
   ]
  },
  {
   "cell_type": "markdown",
   "id": "82bd5af6",
   "metadata": {},
   "source": [
    "# Step1\n",
    "*************************************************************\n",
    "#1) first we take out the names of the accountsthat appear first in  when we searched food in the search panel.\n",
    "***************************************************************"
   ]
  },
  {
   "cell_type": "code",
   "execution_count": 3,
   "id": "06edd7e1",
   "metadata": {},
   "outputs": [
    {
     "data": {
      "text/plain": [
       "['food_tour_ent',\n",
       " 'dewasiii',\n",
       " 'foodtalkindia',\n",
       " 'm.v_momos_food',\n",
       " 'indori_foodiess',\n",
       " 'foodieskagharr',\n",
       " 'food',\n",
       " 'foodfiftyfive',\n",
       " '_meherfoods_',\n",
       " 'indian_tasty_food']"
      ]
     },
     "execution_count": 3,
     "metadata": {},
     "output_type": "execute_result"
    }
   ],
   "source": [
    "frst_ten_food_acnts=[]\n",
    "\n",
    "wait.until(EC.presence_of_all_elements_located((By.TAG_NAME,\"svg\")))\n",
    "bread=driver.find_elements(By.TAG_NAME,\"svg\")\n",
    "for i in bread:\n",
    "    var=i.get_attribute(\"aria-label\")\n",
    "    \n",
    "    if(var==\"Search\"):\n",
    "        try:\n",
    "            driver.find_element(By.XPATH,\"//input[@aria-label='Search input']\")\n",
    "        except:\n",
    "            i.click()\n",
    "            \n",
    "        break\n",
    "search_box=driver.find_element(By.XPATH,\"//input[@aria-label='Search input']\")\n",
    "val_to_search=\"food\"\n",
    "\n",
    "search_box.send_keys(val_to_search)\n",
    "wait.until(EC.presence_of_all_elements_located((By.CSS_SELECTOR,\"div.x9f619.x78zum5.xdt5ytf.x6ikm8r.x1odjw0f.x4uap5.x18d9i69.xkhd6sd.xh8yej3.x5yr21d.xocp1fn div._aacl._aaco._aacw._aacx._aad6\")))\n",
    "ele=driver.execute_script(\"return document.querySelectorAll('div.x9f619.x78zum5.xdt5ytf.x6ikm8r.x1odjw0f.x4uap5.x18d9i69.xkhd6sd.xh8yej3.x5yr21d.xocp1fn');\")\n",
    "ele=ele[0]\n",
    "height=driver.execute_script(\"return arguments[0].scrollHeight\",ele)\n",
    "driver.execute_script(\"arguments[0].scrollBy(0,arguments[1])\",ele,height)\n",
    "\n",
    "search_results=driver.find_elements(By.CSS_SELECTOR,\"div.x9f619.x78zum5.xdt5ytf.x6ikm8r.x1odjw0f.x4uap5.x18d9i69.xkhd6sd.xh8yej3.x5yr21d.xocp1fn div._aacl._aaco._aacw._aacx._aad6\")\n",
    "\n",
    "for result in search_results[:10]:\n",
    "        if(len(result.text)>0 and result.text[0]!=\"#\"):\n",
    "            frst_ten_food_acnts.append(result.text)\n",
    "frst_ten_food_acnts"
   ]
  },
  {
   "cell_type": "markdown",
   "id": "e9bc398b",
   "metadata": {},
   "source": [
    "# Step 2\n",
    "************************************************************\n",
    "\n",
    "now we traverse throught the list obtained earlier  \n",
    "and then we visit each profile page one by one by formating the url    \n",
    "here itself we will calculate the followers by going to the division   \n",
    "then click on the first post and we will start to calculate the post within  made within three days\n",
    "\n",
    "we will end up with a list of lists that will contain three values name of account , followers ,post _counts.\n",
    "***************************************************"
   ]
  },
  {
   "cell_type": "code",
   "execution_count": 4,
   "id": "80523339",
   "metadata": {},
   "outputs": [],
   "source": [
    "import datetime\n",
    "import random\n",
    "import time\n",
    "full_data=[]\n",
    "for acnt in frst_ten_food_acnts:\n",
    "    temp_data=[]\n",
    "    lis=[1,2,3,4,5]\n",
    "    time.sleep(random.choice(lis))\n",
    "    driver.get(f\"https://www.instagram.com/{acnt}/\")\n",
    "    wait.until(EC.presence_of_element_located((By.PARTIAL_LINK_TEXT,\"follow\")))\n",
    "    followers=driver.find_elements(By.CSS_SELECTOR,\"span._ac2a\")[1].text\n",
    "    followers=followers.replace(\",\",\"\") # to deal with , that are present to seperate place values.\n",
    "    # if k is present then multiplying the value by 1000\n",
    "    if \"K\" in followers:\n",
    "        num=followers[:-2]\n",
    "        followers=float(num)\n",
    "        followers=followers*1000\n",
    "    totl_followings=float(followers)\n",
    "    num_of_post=0\n",
    "    ele=driver.find_element(By.CSS_SELECTOR,\"div._aagw\") \n",
    "    ele.click()\n",
    "    while True:\n",
    "        wait.until(EC.presence_of_element_located((By.CSS_SELECTOR,\"div._aacl._aacm._aacu._aacy._aad6>time\")) )  \n",
    "        time_elem=driver.find_element(By.CSS_SELECTOR,\"div._aacl._aacm._aacu._aacy._aad6>time\")\n",
    "        post_time=time_elem.get_attribute(\"datetime\")\n",
    "        post_time=datetime.datetime.strptime(post_time[:-1],\"%Y-%m-%dT%H:%M:%S.%f\")\n",
    "        time_now=datetime.datetime.now()\n",
    "        d=datetime.timedelta(days=3)\n",
    "        time_now=time_now-d\n",
    "        time.sleep(random.choice(lis))\n",
    "        try:\n",
    "            next=driver.find_element(By.CSS_SELECTOR,\"div._aaqg._aaqh\")\n",
    "            next.click()\n",
    "        except:\n",
    "            break\n",
    "        if(post_time<time_now):\n",
    "            break\n",
    "        num_of_post+=1\n",
    "        \n",
    "    temp_data.append(acnt)\n",
    "    temp_data.append(totl_followings)\n",
    "    temp_data.append(num_of_post)\n",
    "    full_data.append(temp_data)"
   ]
  },
  {
   "cell_type": "markdown",
   "id": "f6e125e4",
   "metadata": {},
   "source": [
    "# Step 3\n",
    "*****************************************************************************************\n",
    " now we have the dataset list of lists we can easily convert into dataframe of pandas to perform operations .  \n",
    " we will convert into dataframe  \n",
    " we will then sort it on basis of follower counts bsc we want top 5 accounts on basis of followers  \n",
    " then we slice this result to 5 accounts.  \n",
    " and finally we depict this information\n",
    "****************************************************************************************"
   ]
  },
  {
   "cell_type": "code",
   "execution_count": 5,
   "id": "79070247",
   "metadata": {},
   "outputs": [
    {
     "data": {
      "image/png": "[encoded data removed]",
      "text/plain": [
       "<Figure size 432x288 with 1 Axes>"
      ]
     },
     "metadata": {},
     "output_type": "display_data"
    },
    {
     "data": {
      "text/html": [
       "<div>\n",
       "<style scoped>\n",
       "    .dataframe tbody tr th:only-of-type {\n",
       "        vertical-align: middle;\n",
       "    }\n",
       "\n",
       "    .dataframe tbody tr th {\n",
       "        vertical-align: top;\n",
       "    }\n",
       "\n",
       "    .dataframe thead th {\n",
       "        text-align: right;\n",
       "    }\n",
       "</style>\n",
       "<table border=\"1\" class=\"dataframe\">\n",
       "  <thead>\n",
       "    <tr style=\"text-align: right;\">\n",
       "      <th></th>\n",
       "      <th>name</th>\n",
       "      <th>followers</th>\n",
       "      <th>posts</th>\n",
       "    </tr>\n",
       "  </thead>\n",
       "  <tbody>\n",
       "    <tr>\n",
       "      <th>2</th>\n",
       "      <td>foodtalkindia</td>\n",
       "      <td>30000.0</td>\n",
       "      <td>3</td>\n",
       "    </tr>\n",
       "    <tr>\n",
       "      <th>6</th>\n",
       "      <td>food</td>\n",
       "      <td>18000.0</td>\n",
       "      <td>3</td>\n",
       "    </tr>\n",
       "    <tr>\n",
       "      <th>9</th>\n",
       "      <td>indian_tasty_food</td>\n",
       "      <td>16000.0</td>\n",
       "      <td>0</td>\n",
       "    </tr>\n",
       "    <tr>\n",
       "      <th>4</th>\n",
       "      <td>indori_foodiess</td>\n",
       "      <td>6513.0</td>\n",
       "      <td>0</td>\n",
       "    </tr>\n",
       "    <tr>\n",
       "      <th>1</th>\n",
       "      <td>dewasiii</td>\n",
       "      <td>4713.0</td>\n",
       "      <td>0</td>\n",
       "    </tr>\n",
       "  </tbody>\n",
       "</table>\n",
       "</div>"
      ],
      "text/plain": [
       "                name  followers  posts\n",
       "2      foodtalkindia    30000.0      3\n",
       "6               food    18000.0      3\n",
       "9  indian_tasty_food    16000.0      0\n",
       "4    indori_foodiess     6513.0      0\n",
       "1           dewasiii     4713.0      0"
      ]
     },
     "execution_count": 5,
     "metadata": {},
     "output_type": "execute_result"
    }
   ],
   "source": [
    "sns.set()\n",
    "full_data\n",
    "data=pd.DataFrame(full_data)\n",
    "data.columns=[\"name\",\"followers\",\"posts\"]\n",
    "ind=data.followers.argsort()\n",
    "ind.values\n",
    "ind=list(ind.values)\n",
    "data=data.iloc[ind[::-1]]\n",
    "sns.set_palette(palette=\"bright\")\n",
    "data=data.iloc[:5,:]\n",
    "data\n",
    "plt.xticks(rotation = 45)\n",
    "sns.barplot(y=\"posts\",x=\"name\",data=data)\n",
    "plt.title(\"POSTS Made by the account within 3 days\")\n",
    "plt.show()\n",
    "data"
   ]
  },
  {
   "cell_type": "markdown",
   "id": "a46fd1db",
   "metadata": {},
   "source": [
    "# Question 2\n",
    "\n",
    "**********************************************************************\n",
    "Your friend also needs a list of hashtags that he should use in his posts.\n",
    "Open the 5 handles you obtained in the last question, and scrape the content of the first 10 posts of each handle.\n",
    "Prepare a list of all words used in all the scraped posts and calculate the frequency of each word.\n",
    "Create a csv file with two columns : the word and its frequency\n",
    "Now, find the hashtags that were most popular among these bloggers\n",
    "Plot a Pie Chart of the top 5 hashtags obtained and the number of times they were used by these bloggers in the scraped posts.\n",
    "\n",
    "*****************************************************************************"
   ]
  },
  {
   "cell_type": "markdown",
   "id": "3c62c9e0",
   "metadata": {},
   "source": [
    "# Step 1\n",
    "\n",
    "***************************************************************\n",
    "what we are going to do is we are going to go to each  account profile    \n",
    "start traversing to the top 10 posts    \n",
    "then we will extract each and every word that is present in the post even in comment or in discription and we are going to append this words into a list .\n",
    "\n",
    "**************************************************************"
   ]
  },
  {
   "cell_type": "code",
   "execution_count": 6,
   "id": "78b36acd",
   "metadata": {},
   "outputs": [
    {
     "name": "stdout",
     "output_type": "stream",
     "text": [
      "['Here’s', 'your', 'guide', 'to', \"India's\", 'biggest', 'Gin', 'Festival', 'this', 'weekend!', '🥳', 'From', '15', 'Cocktail', 'Bars,', 'Pop-Up', 'Restaurants,', 'Live', 'Music', 'Acts,', 'Shopping', 'and', 'more!', '🍽️🍸🤤🎶', 'We', \"can't\", 'wait', 'to', 'come', 'celebrate', '#GinOClock', 'with', 'you', 'at', 'the', 'Gin', 'Explorers', 'Club', '-', 'Mythical', 'Edition!', '👯\\u200d♀️', 'Come', 'and', 'get', 'gin-ing!', '🍸🎉', 'When:', '5th', '&', '6th', 'November', '🥳', 'Time:', '12pm', '-', '10pm', 'Where:', 'Jayamahal', 'Palace,', 'Bengaluru', '📍', 'Get', 'your', 'tickets', 'now!', '🎟️', '.', '.', '.', '#ginexplorersclub', '#bengaluru', '#mythicaledition', '#foodtalkindia', '#foodtalk', '#drinks', '#fti', '#food', '#foodie', '#foodies', '#foodgram', '#foodgasm', '#foodiesofindia', '#foodblogger', '#foodfeed', '#delicious', '#yummy', '#instagood', '#instafood', '#instagram', '#discover', '🔥🔥', 'Experience', 'the', 'best', 'of', 'artisanal', 'brands', 'at', 'the', 'Explorers', 'Flea', 'at', 'the', 'Gin', 'Explorers', 'Club', '-', 'Mythical', 'Edition!', '🍸', 'From', 'refreshing', 'cold', 'brew', '@bonomiofficial', ',', 'plant-based', 'products', 'by', '@sudofoods', ',', 'lip-smacking', 'bacon', 'jams', 'by', '@nomadfoodproject', ',', 'yum', 'ice', 'creams', 'by', '@eatnoto', ',', 'vegan', 'snacks', 'by', '@wildermart', 'and', 'along', 'with', 'awesome', 'merch', 'by', '@greaterthangin', 'and', 'more!🤤👯\\u200d♀️', 'When:', '5th', '&', '6th', 'November', '🥳', 'Where:', 'Jayamahal', 'Palace,', 'Bengaluru', '📍', 'Get', 'ready', 'to', 'experience', 'the', 'biggest', 'festival', 'gin', 'festival', 'Bengaluru!', '🎉', '.', '.', '.', '#ginexplorersclub', '#bengaluru', '#mythicaledition', '#flea', '#sudo', '#bonomi', '#bacon', '#coldbrew', '#foodtalkindia', '#foodtalk', '#drinks', '#fti', '#food', '#foodie', '#foodies', '#foodgram', '#foodgasm', '#foodiesofindia', '#foodblogger', '#foodfeed', '#delicious', '#yummy', '#instagood', '#instafood', '#instagram', '#discover', '#NewInTown', '@figandmaplegoa', 'The', 'latest', 'addition', 'to', 'Goa’s', 'F&B', 'scene,', 'Fig', '&', 'Maple’s', 'found', 'its', 'new', 'home', 'in', 'a', 'restored', 'Goan', 'villa.', '🍲🍽️', 'With', 'its', 'garden-fresh', 'vibes,', 'the', 'restaurant', 'exudes', 'the', 'same', 'comforting', 'and', 'cosy', 'charm', 'we', 'are', 'all', 'familiar', 'with.\\xa0💖', 'The', 'menu', 'is', 'all', 'about', 'sustainable,', 'locally-sourced', 'and', 'ingredient-forward', 'approach.', 'Along', 'with', 'this,', 'you', 'can', 'expect', 'to', 'see', 'its', 'own', 'kitchen', 'garden,', 'a', 'still-growing', 'library,', 'a', 'space', 'for', 'chef’s', 'table', 'for', 'budding', 'chefs', 'and', 'a', 'secret', 'bar', 'as', 'it', 'aims', 'to', 'be', 'more', 'communal.', '🥗', 'The', 'new', 'outlet', 'will', 'highlight', 'regional', 'flavours', 'like', 'the', 'Konkan', 'ceviche-', 'seasonal', 'fish', 'cured', 'with', 'Kokum', 'served', 'with', 'a', 'coconut', 'emulsion', 'with', 'Khakra', 'and', 'so', 'much', 'more!', '🤤🥘', 'Where:', '140', 'Bairo', 'Alto,', 'Assagao,', 'Goa', '📍', 'Comment', 'below', 'and', 'tell', 'us', 'who', 'you’re', 'going', 'with', 'to', 'this', 'outlet\\xa0', '👯\\u200d♀️', '.', '.\\u2028.', '#figandmaple', '#regionalflavours', '#goa', '#sustainable', '#villa', '#ingredientforward', '#locallysourced', '#produce', '#foodtalkindia', '#foodtalk', '#fti', '#food', '#foodie', '#foodies', '#foodgram', '#foodgasm', '#foodiesofindia', '#foodblogger', '#foodfeed', '#delicious', '#yummy', '#instagood', '#instafood', '#instagram', '#discover', 'Gear', 'up', 'for', 'the', '‘BEST', 'GODDAMN’', 'sandwiches,', 'subs,', 'hot', 'dogs', 'and', 'more', 'by', '@localfermentco.in', 'at', 'the', 'Gin', 'Explorers', 'Club', '-', 'Mythical', 'Edition!', '🍸🤤', 'Indulge', 'in', 'a', 'range', 'of', 'delicious', 'food', 'while', 'sipping', 'on', 'regenerative', 'drinks', 'and', 'grooving', 'to', 'music', 'this', 'weekend!', '🌭🥪🌯', 'When:', '5th', '&', '6th', 'November', '🥳', 'Where:', 'Jayamahal', 'Palace,', 'Bengaluru📍', 'Get', 'ready', 'to', 'snack-on-the-go', 'and', 'be', 'prepared', 'to', 'get', 'gin-ing!', '🎉', '.', '.', '.', '#ginexplorersclub', '#localfermentco', '#sandwiches', '#subs', '#hotdogs', '#kombucha', '#music', '#cocktails', '#bengaluru', '#mythicaledition', '#foodtalkindia', '#foodtalk', '#drinks', '#fti', '#food', '#foodie', '#foodies', '#foodgram', '#foodgasm', '#foodiesofindia', '#foodblogger', '#foodfeed', '#delicious', '#yummy', '#instagood', '#instafood', '#instagram', '#discover', 'It’s', 'almost', '#GinOClock', 'Bengaluru!', '⏰🍸\\u2028We’re', 'all', 'set', 'to', 'bring', 'you', 'the', 'best', 'Gin', 'for', 'the', 'Gin', 'Explorers', 'Club', '-', 'Mythical', 'Edition!', 'Sip,', 'swirl,', 'and', 'unravel', 'the', 'best', 'of', 'Gin,', 'music,', 'food', 'and', 'more', 'this', 'weekend🍸🤤🍔', 'When:', '5th', '&', '6th', 'November', '🥳', 'Where:', 'Jayamahal', 'Palace,', 'Bengaluru', '📍', 'Get', 'ready', 'to', 'get', 'gin-ing!', '🎉', '.', '.', '.', '#ginexplorersclub', '#GinOClock', '#bengaluru', '#gin', '#drinks', '#mythicaledition', '#foodtalkindia', '#foodtalk', '#fti', '#food', '#foodie', '#foodies', '#foodgram', '#foodgasm', '#foodiesofindia', '#foodblogger', '#foodfeed', '#delicious', '#yummy', '#instagood', '#instafood', '#instagram', '#discover', '🥃', 'salud', '@saludbeverages', '🔥', 'Prepare', 'yourself', 'for', 'the', 'best', 'Asian', 'cuisine', 'in', 'town', 'with', '@thefattybaoblr', 'and', '@cantanxo', 'at', 'the', 'Gin', 'Explorers', 'Club', '-', 'Mythical', 'Edition.🍸🍱', 'Experience', 'an', 'explosion', 'of', 'flavours', 'this', 'weekend', 'while', 'sipping', 'on', 'cocktails.', '🥟🍣🍢', 'When:', '5th', '&', '6th', 'November', '🥳', 'Where:', 'Jayamahal', 'Palace,', 'Bengaluru', '📍', 'Get', 'ready', 'snack-on-the-go', 'and', 'be', 'prepared', 'to', 'get', 'gin-ing!', '🎉', '.', '.', '.', '#ginexplorersclub', '#cantan', '#fattybao', '#baos', '#sushi', '#dimsums', '#skewers', '#asian', '#asiancuisine', '#bengaluru', '#mythicaledition', '#foodtalkindia', '#foodtalk', '#drinks', '#fti', '#food', '#foodie', '#foodies', '#foodgram', '#foodgasm', '#foodiesofindia', '#foodblogger', '#foodfeed', '#delicious', '#yummy', '#instagood', '#instafood', '#instagram', '#discover', 'Calling', 'all', 'Gin', 'lovers,', 'it’s', 'officially', '#GinOClock', '!', '⏰🍸\\u2028Sip', 'on', 'some', 'crisp', 'cocktails', 'at', 'the', 'Gin', 'Explorers', 'Club', '-', 'Mythical', 'Edition!\\xa0🍸', 'Prepare', 'your', 'tastebuds', 'for', 'the', 'biggest', 'festival', 'in', 'town!', '🥳', 'Sip,', 'swirl,', 'and', 'unravel', 'the', 'best', 'of', 'Gin,', 'music,', 'food', 'and', 'more', 'as', 'we', 'are', 'all', 'set', 'to', 'bring', 'you', 'the', 'best', 'of', 'best!🍸🤤🍔', 'When:', '5th', '&', '6th', 'November', '🥳', 'Where:', 'Jayamahal', 'Palace,', 'Bengaluru', '📍', 'Get', 'ready', 'to', 'get', 'gin-ing!', '🎉', '.', '.', '.', '#ginexplorersclub', '#GinOClock', '#bengaluru', '#gin', '#drinks', '#mythicaledition', '#foodtalkindia', '#foodtalk', '#fti', '#food', '#foodie', '#foodies', '#foodgram', '#foodgasm', '#foodiesofindia', '#foodblogger', '#foodfeed', '#delicious', '#yummy', '#instagood', '#instafood', '#instagram', '#discover', 'Sunday', 'mornings', 'call', 'for', 'a', 'power-packed', 'and', 'filling', 'brunch.', '🥓☕️🥞🧇', 'From', 'the', 'classics', 'to', 'unusual', 'cravings,', 'these', 'restaurants', 'offer', 'some', 'of', 'the', 'best', 'brunch', 'menus', 'to', 'push', 'wash', 'away', 'your', 'tiredness.', '🥱😮\\u200d💨', 'Share', 'this', 'list', 'with', 'your', 'friends', 'and', 'plan', 'a', 'brunch', 'date', 'with', 'them.', '👯\\u200d♀️', '.', '.', '.', '#brunch', '#breakfast', '#lunch', '#brunchmenu', '#brunchspots', '#foodtalkindia', '#foodtalk', '#fti', '#food', '#foodie', '#foodies', '#foodgram', '#foodgasm', '#foodiesofindia', '#foodblogger', '#foodfeed', '#delicious', '#yummy', '#instagood', '#instafood', '#instagram', '#discover', 'thanks', 'for', 'the', 'shoutout,', 'when', 'are', 'we', 'seeing', 'you', 'all', 'at', 'ours?', '💯💪🏻', 'Plats', 'rocks', '❤️❤️❤️❤️', 'Get', 'ready', 'to', 'dig', 'into', 'oh-so-heavenly', 'pizzas', 'from', '@brikovenblr', 'at', 'the', 'Gin', 'Explorers', 'Club', '-', 'Mythical', 'Edition!', '🍕🤤', 'Choose', 'from', 'their', 'range', 'of', 'wood-fired', 'pizzas', 'and', 'more!', 'Get', 'gin-ing', 'Bengaluru', 'while', 'falling', 'in', 'love', 'with', '@brikovenblr', '⏰🍸', 'When:', '5th', '&', '6th', 'November', '🎉', 'Where:', 'Jayamahal', 'Palace,', 'Bengaluru', '📍', '.', '.', '.', '#pizza', '#gourmet', '#woodfired', '#ginexplorersclub', '#GinOClock', '#bengaluru', '#gin', '#drinks', '#mythicaledition', '#foodtalkindia', '#foodtalk', '#fti', '#food', '#foodie', '#foodies', '#foodgram', '#foodgasm', '#foodiesofindia', '#foodblogger', '#foodfeed', '#delicious', '#yummy', '#instagood', '#instafood', '#instagram', '#discover', 'Make', 'way', 'for', 'the', 'most', 'scrumptious', 'Sloppy', 'Joes', 'from', '@rudysgoa', 'at', 'the', 'Gin', 'Explorers', 'Club', '-', 'Mythical', 'Edition!', '🤤🥪', 'Choose', 'from', 'a', 'crazy', 'range', 'of', 'tacos,', 'sandwiches', 'and', 'more', 'that', 'will', 'take', 'your', 'taste', 'buds', 'to', 'another', 'level!', '🤤', 'When:', '5th', '&', '6th', 'November', '🥳', 'Where:', 'Jayamahal', 'Palace,', 'Bengaluru', '📍', 'Get', 'ready', 'to', 'snack-on-the-go', 'and', 'be', 'prepared', 'to', 'get', 'gin-ing!', '🎉', '.', '.', '.', '#ginexplorersclub', '#burgers', '#rudys', '#bengaluru', '#mythicaledition', '#foodtalkindia', '#foodtalk', '#drinks', '#fti', '#food', '#foodie', '#foodies', '#foodgram', '#foodgasm', '#foodiesofindia', '#foodblogger', '#foodfeed', '#delicious', '#yummy', '#instagood', '#instafood', '#instagram', '#discover', 'Our', 'friends', 'at', '@8itapp', 'are', 'dropping', 'some', 'knowledge', 'on', 'everything', 'you', 'thought', 'you', 'knew', 'about', 'the', 'stereotypical', 'post', 'Friday', 'night', 'debauchery', 'hungover', 'Saturday', 'morning', 'brunch.', 'Introducing', '“Rise', '+', 'Dine”', 'a', 'new', 'dining', 'pop-up', 'series', 'at', '@sommwhere', 'on', 'Essex', 'by', 'Chef', '@ramenbyra', 'featuring', 'bowls', 'of', 'ramen', 'with', 'flavors', 'that', 'mimic', 'a', 'classic', 'American', 'brunch', 'and', 'a', 'vibe', 'that', 'does', 'the', 'complete', 'opposite.', 'Her', 'brilliant', 'brunch', 'creations', 'include…', '🍜', 'Bacon,', 'Egg', '&', 'Cheese', '-', 'shoyu,', 'seasoned', 'yolk,', 'crispy', 'parmesan,', 'smoked', 'bacon', '(v)', 'lard', 'oil,', 'scallions', '🍜', 'Bacon,', 'Lettuce', '+', 'Tomato', '-', 'tomato', 'shoyu,', 'shredded', 'lettuce,', 'roasted', 'tomato,', 'smoked', 'bacon', '(v)', 'lard', 'oil,', 'scallions', '🍜', 'Everything', 'Drop', 'Soup', '-', 'sesame', 'shoyu,', 'everything', 'crunch,', 'egg', 'white,', 'sausage', '(v)', 'crispy', 'shallot,', 'chili', 'threads', '🍜', 'Steak', '+', 'Soy', 'Egg', '-', 'beef', 'shoyu,', 'crispy', 'shallots,', 'chimichurri,', 'rosemary', 'fingerlings', 'herb', 'oil,', 'sesame,', 'scallions', '🍜', 'Gravalax', '-', 'cream', 'cheese', 'shoyu,', 'soy', 'egg,', 'cured', 'salmon,', 'nori,', 'crispy', 'capers', 'pickled', 'red', 'onions,', 'dill,', 'scallions', 'Pop-Up', 'will', 'be', 'starting', 'this', 'Saturday', '(sold', 'out', '☹️)', 'and', 'run', 'till', 'November', '12,', '19,', '26,', 'December', '4,', '11,', '18.', 'Grab', 'your', 'spot', 'at', 'www.exploretock.com', '📸', '@abankhead', '#foodnews', '#ramen', '#brunch', '#japanese', '#manhattan', '#harlem', '#brooklyn', '#lowereastside', '#baconeggan', '#baconeggandcheese', '😍😍😍😍😍😍', 'you', 'could', 'write', 'you', 'caption', 'more', 'cearly,', '', 'than', 'your', 'caption', 'would', 'have', 'been', 'more', 'beautiful', '❤️dear❤️', '@braduga', '😍', '@ramenbyra', 'let’s', 'go!!', 'CAN’T', 'WAIT', 'TO', 'SLURP', 'THESE', 'DOWN', 'IN', '3', 'HOURS', '😍', '𝙋𝙍𝙊𝙈𝙊𝙏𝙀', '𝙄𝙏', '𝙊𝙉', '@brooklyn_vibes_', '🗽', 'You', 'know', 'who', 'you', 'are', '🍝🧀😳', 'Tag', 'a', 'Parmesan', 'lover', '👇', '🎥', '@davittorioristorante', 'Lmao', 'OMG🔥🔥🔥🔥yes', 'Not', 'enough', 'cheese', '🥲', '😍😍😍', 'We', 'want', 'more', 'cheese', '@matt.lasorsa', '@christinakistler_', 'this', 'and', 'the', 'bread', 'basket', 'lol', '@marlouw', 'jij😆', '@missygbrenner', 'this', 'is', 'the', 'sexiest', 'thing', \"I've\", 'ever', 'seen', '@livtsakiris', '@trendsetterlu', '@sitdown.behungry', '@martinsadrien', 'The', '\"perfect', 'mimosa\"', 'has', 'become', 'a', 'trending', 'joke', 'on', 'TikTok', 'so', '@tropicana_juices', 'has', 'created', 'a', 'limited', '\"Tropicana', 'Mimosa', 'Maker\"', 'that', 'transforms', 'a', 'Tropicana', 'single-serve', 'into', 'a', 'spray', 'bottle', 'serving', 'as', 'the', '\"ultimate', 'OJ', 'diffuser.\"', 'These', 'Tropicana', 'Mimosa', 'Makers', 'are', 'available', 'for', 'those', 'over', 'the', 'age', 'of', '21', 'at', 'tropicanamimosamaker.com', 'from', 'Nov.', '6', 'through', 'Nov.', '10', 'via', 'sweepstakes.', '🍊🥂', '#ThePerfectMimosa', '#brunch', '#champaign', '#orangejuice', '@samantha.a.murph', 'This', 'also', 'works', 'great', 'as', 'a', 'replacement', 'for', 'pomade', 'on', 'frizzy', 'hair', 'I', 'just', 'spray', 'Lysol', 'in', 'my', 'champagne', '🤷🏽\\u200d♂️', '@sauce', 'is', 'back', 'at', 'is', 'again', 'dropping', 'some', 'truffle-infused', 'tastiness,', 'this', 'time', 'with', 'Black', 'Truffle', 'Infused', 'Salt.', 'The', 'perfect', 'season', 'for', 'the', 'holiday', 'season', '🧂🎁🍿', '#foodnews', '#salt', '#truffle', '#truff', '#sacue', '💯‼️', '@sauce', '❤️Most', 'of', 'you', 'still', \"don't\", 'believe', 'that', 'herbal', 'medicine', 'can', 'cure', 'all', 'the', 'dieseaes', 'without', 'any', 'side', 'effects', '💯', 'sure.', 'I', 'have', 'finally', 'free', 'from', 'herpes', 'virus', 'which', 'my', 'husband', 'gave', '', 'to', 'me', 'over', 'a', 'years', 'now', ',I', 'used', '@doctor_sikama', 'herbal', '', 'medicine', 'to', 'cure', 'it', '', 'between', '14', 'days', 'everything', 'is', 'gone', 'no', 'side', 'effects', ',', 'please', 'i', 'will', 'also', 'advise', 'you', 'to', 'link', '', 'him', 'now', 'for', 'your', 'help', '@doctor_sikama', 'I', 'thought', 'medical', 'drugs', 'can', 'cure', 'herpes', 'virus', 'but', 'it', 'only', 'prevent', 'it', 'not', 'to', 'cure', ',but', 'I', 'believe', 'on', 'draguinede', 'herbal', 'medicine', 'which', 'I', 'used', 'to', 'cure', 'my', '', 'herpes', 'virus', 'diesase', '', 'is', 'gone', 'now', ',any', 'dieseaes', 'you', 'have', ',is', 'it', 'hiv', 'cancer', 'hpv', 'hsv', 'type', 'one', 'diabetes', 'Herpes', 'virus', 'asthma', 'lupus', 'fibroid', 'Pcos', 'Etc', 'just', 'click', 'the', 'link', 'below', '@doctor_sikama', 'that', 'is', 'how', 'I', 'was', 'help', 'by', 'him', 'he', 'will', 'reply', 'your', 'message,is', 'just', 'like', 'drsebi', 'he', 'Herb', 'is', 'guaranteed', ',and', 'thank', 'me', 'later', 'Looking', 'goood!', '🙌', 'Let’s', 'goooo🔥', '🔥🔥🔥', 'These', 'Halloween-themed', 'spooky', 'pies', 'by', '@gracey.cakes', 'are', 'scary', 'good', '😱🎃🥧', '#pies', '#baking', '#foodie', '#spookyseason', '#halloween', '#happyhalloween', '🍽Weeknight', 'Dinners', 'GET', 'THE', 'RECIPES', 'HERE', '@chef_familial', '💜❤', '❤️Most', 'of', 'you', 'still', \"don't\", 'believe', 'that', 'herbal', 'medicine', 'can', 'cure', 'all', 'the', 'dieseaes', 'without', 'any', 'side', 'effects', '💯', 'sure.', 'I', 'have', 'finally', 'free', 'from', 'herpes', 'virus', 'which', 'my', 'husband', 'gave', '', 'to', 'me', 'over', 'a', 'years', 'now', ',I', 'used', '@doctor_sikama', 'herbal', '', 'medicine', 'to', 'cure', 'it', '', 'between', '14', 'days', 'everything', 'is', 'gone', 'no', 'side', 'effects', ',', 'please', 'i', 'will', 'also', 'advise', 'you', 'to', 'link', '', 'him', 'now', 'for', 'your', 'help', '@doctor_sikama', 'I', 'thought', 'medical', 'drugs', 'can', 'cure', 'herpes', 'virus', 'but', 'it', 'only', 'prevent', 'it', 'not', 'to', 'cure', ',but', 'I', 'believe', 'on', 'draguinede', 'herbal', 'medicine', 'which', 'I', 'used', 'to', 'cure', 'my', '', 'herpes', 'virus', 'diesase', '', 'is', 'gone', 'now', ',any', 'dieseaes', 'you', 'have', ',is', 'it', 'hiv', 'cancer', 'hpv', 'hsv', 'type', 'one', 'diabetes', 'Herpes', 'virus', 'asthma', 'lupus', 'fibroid', 'Pcos', 'Etc', 'just', 'click', 'the', 'link', 'below', '@doctor_sikama', 'that', 'is', 'how', 'I', 'was', 'help', 'by', 'him', 'he', 'will', 'reply', 'your', 'message,is', 'just', 'like', 'drsebi', 'he', 'Herb', 'is', 'guaranteed', ',and', 'thank', 'me', 'later', '😂😂😂', '😲😲😲', 'Absolutely', 'brilliant!', '@jo210391', '😍', 'sooo', 'spooky!!', '😍🎃', '😍😍😍', 'Looks', 'insanely', 'delicious', '🔥', 'Looking', 'for', 'an', 'easy', 'lunch', 'idea?', '@emilyscooking_', 'will', 'blow', 'your', 'mind', 'with', 'this', 'brilliantly', 'simply', 'food', 'hack', '🥪🤯', '#foodie', '#foodhack', '#foodhacks', '#lunch', '#meltedcheese', 'Hey!', 'I', 'really', 'like', 'your', 'content😍', 'i', 'post', 'similar', 'stuff', 'on', 'my', 'account', 'too,', 'feel', 'free', 'to', 'check', 'it', 'out', 'and', 'follow', 'me', 'if', 'you', 'like', 'my', 'content', '🧡', 'I', 'want', 'one', 'with', '@mind_machine', 'porchetta', 'inside', '😍', '🔥🔥', 'Wolala😍🔥', 'I', 'will', 'be', 'trying', 'this', 'idea..', 'Among', 'us', '😍😍😍', 'How', 'could', 'be', 'homophobic', 'my', 'b****', 'is', 'gay', '|', 'never', 'believed', 'in', 'herbal', 'remedies', 'until', 'I', 'met', 'a', 'friend', 'of', 'mine', 'who', 'was', 'also', 'cured', 'with', 'herbal', 'remedies,', 'I', 'decided', 'to', 'give', 'it', 'a', 'try', 'by', 'contacting', 'and', 'ordering', 'herbs', 'from', '@dr_ebhota0', 'and', 'behold', 'within', '7-14', 'days', 'of', 'usage', 'I', 'was', 'cured', 'from', 'my', 'Psoriasis', 'AND', 'I', 'thank', 'you', 'so', 'much', '@dr_ebhota0', 'He', 'also', 'cured', 'the', 'following', 'illness..', '1)', 'diabetes', '2)hepatitis', '3)', 'Asthma', '4)', 'Epilepsy', '5)ringing', '6)', 'pregnancy', 'herbs', '7)', 'fibroids', '8)', 'arthritis', '9)', 'cancer', '10)', 'gout', '11)kidney', 'stone', '12)', 'Parkinson', 'disease', 'Ever', 'wonder', 'how', 'grocery', 'store', 'fresh', 'mozzarella', 'is', 'made?', '@deciccos', 'has', 'been', 'pumping', 'out', 'some', 'of', 'the', 'best', 'fresh', 'mozzarella,', 'in', 'fact', 'over', '300,000lbs', 'annually!', 'All', 'it', 'takes', 'is', 'warm', 'water,', 'salt,', 'cheese', 'curd', 'and', 'gentle', 'hands…sometimes', 'even', 'their', 'fresh', 'mozz', 'machine,', 'Bella.', '#mozzarella', '#pizza', '#cheese', '#westchesterfood', '#westchesterfoodie', '#heresmyfood', '#freshmozz', '#mozz', 'You', 'every', 'videos', 'are', 'awesome.', 'I', 'feel', 'hungry', 'all', 'the', 'time', 'when', 'see', 'them💥', '|', 'never', 'believed', 'in', 'herbal', 'remedies', 'until', 'I', 'met', 'a', 'friend', 'of', 'mine', 'who', 'was', 'also', 'cured', 'with', 'herbal', 'remedies,', 'I', 'decided', 'to', 'give', 'it', 'a', 'try', 'by', 'contacting', 'and', 'ordering', 'herbs', 'from', '@dr_ebhota0', 'and', 'behold', 'within', '7-14', 'days', 'of', 'usage', 'I', 'was', 'cured', 'from', 'my', 'Psoriasis', 'AND', 'I', 'thank', 'you', 'so', 'much', '@dr_ebhota0', 'He', 'also', 'cured', 'the', 'following', 'illness..', '1)', 'diabetes', '2)hepatitis', '3)', 'Asthma', '4)', 'Epilepsy', '5)ringing', '6)', 'pregnancy', 'herbs', '7)', 'fibroids', '8)', 'arthritis', '9)', 'cancer', '10)', 'gout', '11)kidney', 'stone', '12)', 'Parkinson', 'disease', 'Rapidly', 'growing', 'in', 'popularity,', '“grandma', 'style', 'pizza”', 'is', 'a', 'distinct', 'thin,', 'rectangular', 'style', 'of', 'pizza', 'attributed', 'to', 'Long', 'Island,', 'NY.', 'Typically', 'topped', 'with', 'cheese', 'and', 'tomato', 'sauce,', 'it', 'is', 'reminiscent', 'of', 'pizzas', 'baked', 'at', 'home', 'by', 'Italian', 'housewives,', 'many', 'immigrants', 'from', 'southern', 'Italy\\xa0who', 'made', 'pizzas', 'at', 'home', 'with', 'simple', 'ingredients', 'with', 'standard', 'American', 'cooking.', 'This', 'delicious', 'Grandma', 'Style', 'pizza', 'is', 'made', 'by', '@pizzawithperez', 'owner', 'of', '@peelsonwheelspizza', 'What', 'do', 'you', 'think?', 'Are', 'we', 'in', 'the', 'golden', 'years', 'of', 'grandma', 'pies?', '👵🏼🍕', '🙌🙌🙌🙌', '😍😍', 'Hey,', \"It's\", 'Time', 'For', 'Dinner', '🍽️', '#Foodzonekanodar', 'Ohh', 'yummy', 'foods', 'ever🔥❤️', '@food', 'I', 'can', 'show', 'you', 'the', 'best', 'places', 'on', 'LI', 'to', 'get', 'a', 'grandma', 'or', 'grandpa', 'slice', 'Oops,', 'did', 'we', 'just', 'violate', 'our', 'MDA?', '🤦\\u200d♂️🍕', 'While', 'most', 'food', 'brands', 'are', 'usually', 'hungry', 'for', 'people', 'to', 'post', 'about', 'them', 'on', 'social', 'media,', '@pizzahut', \"'new\", 'campaign', 'takes', 'the', 'opposite', 'approach.', 'To', 'highlight', 'the', 'fact', 'that', 'its', 'new', 'Melts', 'are', 'designed', 'for', 'solo', 'snacking,', 'the', 'restaurant', 'brand', 'will', 'pay', 'people', '$100', 'not', 'to', 'talk', 'about', 'the', 'product', 'on', 'social', 'media.', 'People', 'can', 'visit\\xa0meltsarenotforsharing.com\\xa0to', 'sign', 'an', '\"MDA\"', '(Melts', 'Disclosure', 'Agreement)', 'stating', 'that', 'they', 'will', 'not', 'share', 'their', 'melt', 'on', 'any', 'social', 'platforms,', 'and', 'those', 'that', 'do', 'are', 'entered', 'for', 'a', '$100', 'prize.', 'The', 'new', 'Pizza', 'Hut', 'Melts', 'are', 'Pizza', 'Hut’s', 'first', 'foray', 'into', 'the', 'handheld', 'category', 'and', 'are', 'designed', 'for', 'a', 'pizza', 'party', 'of', 'ONE,', 'giving', 'guests', 'the', 'option', 'to', 'enjoy', 'the', 'delicious', 'taste', 'of', 'pizza', 'without', 'having', 'to', 'order', 'a', 'whole', 'pie,', 'whenever', 'or', 'wherever', 'they', 'want.', 'So', 'please', 'don’t', 'share', 'this', 'post', '🚫📸🍕', '#foodnews', '#pizza', '#pizzahut', '#pizzalover', 'If', 'you', 'were', 'a', 'kid', 'growing', 'up', 'in', 'the', '90s,', 'you', 'likely', 'had', 'a', 'McDonalds', 'halloween', 'pail', 'filled', 'to', 'the', 'brim', 'with', 'candy', '🍬🍭🍫', '@mcdonalds', 'announced', 'that', 'their', 'Halloween', 'Pails', 'in', 'their', 'self-described', '\"OG\"', 'characters', '—', 'McBoo,', \"McPunk'n,\", 'and', 'McGoblin', '—', 'will', 'be', 'returning', 'for', 'the', 'first', 'time', 'since', '2016', 'to', 'participating', \"McDonald's\", 'restaurants', 'nationwide', 'from', 'October', '18', 'until', 'October', '31', 'while', 'supplies', 'last.', '#foodnews', '#mcdonalds', '#halloween', '#fastfood', '#mcdonaldshappymeal', 'Pizza', '😍😄', 'Tea', 'Time', '😍😍', 'My', 'God!', 'This', 'looks', 'so', '😍', 'lovely.', 'I', 'can', 'actually', 'feel', 'it', 'http://leadsark.com/JoinNow.aspx?e=&id=88212&pid=0', 'This', 'looks', 'delightful', '😍', 'weight', 'loss', 'link:', 'https://bit.ly/3KhmmZ2', '😋😋😋😋😋😋😋', 'hello!', 'my', 'sister', '@saanvi.sings', 'is', 'a', 'singer', 'who', 'records', 'covers', 'of', 'popular', 'songs', 'and', 'recently', 'she', 'made', 'a', 'classical', 'recording', '(latest', 'post).', 'i', 'would', 'appreciate', 'if', 'you', 'would', 'check', 'out', 'either', 'her', 'latest', 'post', 'or', 'any', 'of', 'her', 'other', 'covers.', 'thanks!!', '😍😍', 'Wow', 'so', 'tasty😍😍😍', 'DM', 'it', '👉', '@vintage.food_', 'For', 'Yummy', 'Cookies', 'Follow', 'My', 'Page', '🍪😋😋', 'My', 'love', '😍', '😋😋😋', 'Nice', '😍', '😋😋', 'Follow', 'us', 'to', 'know', 'about', 'Indian', 'Cooking', 'and', 'spices', 'home', 'delivered!', 'Experience', 'the', 'uniqueness', 'of', 'the', 'Indian', 'Villages', 'bought', 'to', 'you!', '🔥', 'Wow', '🔥🔥🔥', 'Follow', 'my', 'page', 'guys❤️', '😋😋😋', '#thirsty', '#drinkup', '#thirst', '#pub', '#yum', '#glass', '#bar', '#instagood', '#funn', '#cocktail', '#beer', '#yummy', '#drink', '#liquor', '#beers', '#wine', '#photooftheday', '#can', '#cocktails', 'Rava', 'appe', '😍😍😍', '#dewas', '#food', '#foodie', '#vada_sambhar', '#viratkohli', '#pohajalebi', '#pune', '#indore', '#bhopal', '#delhi', '#delhistreetfood', '#cannughtplace', '#kolkata', '#lacknow', '#swachbharat', '#sprout_lover', '#gymnastics', '#gym', '#chestworkout', '#bicepworkout', '#ernakulam', '#follow4followback', '#biryani', '#birthday', 'Paav', 'bhaji', '😍😍😍😍', 'Send', 'pic👉', '@_amazing._photography', 'Send', 'pic👉', '@_amazing._photography', \"I'm\", 'a', 'South', 'Indian', 'so', 'I', 'somehow', \"don't\", 'get', 'the', 'authentic', 'taste', 'of', 'North', 'Indian', 'cuisine.', 'But', 'I', 'love', 'North', 'Indian', 'food.', 'Will', 'soon', 'learn', 'to', 'make', 'them', 'well', '😍😍😍😍', '*नमस्कार*', '🙏', 'मेरा', 'नाम', 'ravinaहै', 'और', 'मैं', '*FORSAGE', 'BUSD*', 'ब्लॉकचेन', 'का', 'कांसेप्ट', 'में', 'काम', 'करती', 'हूं।', 'यह', 'एक', 'यूनिक', 'कांसेप्ट', 'है', 'जिसमें', 'आपकी', 'इनकम', 'आपकी', 'उम्मीद', 'से', 'ज्यादा', 'ही', 'होती', 'है', 'क्योंकि', 'यह', 'इनकम', 'आपको', 'अपलाइन,डाउनलाइन', 'और', 'क्रॉस', 'लाइन', 'से', 'भी', 'आती', 'है।', '*Decentralized', 'System', 'Programs*', 'का', 'यह', 'मतलब', 'होता', 'है', 'कि', 'उसमें', 'ना', 'तो', 'कोई', 'मालिक', 'होता', 'है,', 'ना', 'ही', 'उसे', 'कोई', 'Edit', 'कर', 'सकता,', 'ना', 'ही', 'कभी', 'Plan', 'को', 'Change', 'कर', 'सकता', 'है,', 'और', 'ना', 'ही', 'वो', 'किसी', 'का', 'समय/पैसा/सपने', 'को', 'कुचलकर', 'कहीं', 'भाग', 'सकता', 'है।', 'क्योंकि', 'सारा', 'नियंत्रण', '*Computerized', 'System', 'BlockChain', 'Technology*', 'पर', 'चलता', 'है।', '👉आज', 'मार्केट', 'में', 'जब', 'भी', 'हम', 'किसी', 'को', 'कोई', 'भी', 'सिस्टम', 'बताते', 'हैं,', 'तो', 'सबसे', 'पहला', 'सवाल', 'लोग', 'यही', 'पूछते', 'है', 'कि', 'प्लान', 'कब', 'तक', 'चलेगा', 'और', 'हम', 'लोग', 'उसको', 'गोल-गोल', 'जवाब', 'देते', 'है।', 'क्योंकि', 'हकीकत', 'यह', 'है', 'कि', 'कोई', 'भी', 'सिस्टम', 'कब', 'तक', 'चलेगा', 'ये', 'हमे', 'भी', 'पता', 'नही', 'होता', 'था।', '👉इसलिए', 'अब', 'आप', 'कोई', 'भी', 'सिस्टम', 'कीजिये', 'जो', 'Decentralized', 'ही', 'हो', 'जिससे', 'आप', 'लोग', 'का', 'फेस', 'वैल्यू', 'खराब', 'ना', 'हो', 'और', 'आप', 'अपने', 'टीम', 'के', 'साथ', 'कई', 'कई', 'वर्षो', 'तक', 'कॉन्फिडेंस', 'से', 'काम', 'कर', 'सकें।', '*BlockChain', 'Smart', 'Contract*', 'हमें', 'धोखेबाज', 'मालिक,', 'लालची', 'लीडर्स,', 'फेक', 'अकाउंट,', 'Scam', 'और', 'Fraud', 'आदि', 'से', 'बचाता', 'है', 'और', 'हमारे', 'पैसे', 'की', 'सुरक्षा', 'करता', 'है।', '*Cryptocurrency', 'Industry*', '', 'के', 'इतिहास', 'में', 'पहली', 'बार', 'FORSAGE', 'सिस्टम', 'ने', 'स्टेबल', 'COIN', 'को', 'लॉन्च', 'किया', 'है।', 'दोस्तो', 'देखते', 'है,', 'फोर्सेज', 'busd', 'में', 'काम', 'करके', 'हम', 'कैसे', 'बहुत', 'जल्दी', 'अपने', 'सपनो', 'को', 'पूरा', 'कर', 'सकते', 'है', '*', '100%', 'payout!!', '*', '', 'मात्र', '1', 'सेकेंड', 'में', 'इनकम', 'पैसे', 'के', 'लिए', 'इंतजार', 'नही', 'करना', 'होगा!!', '*', '100%', 'डिसेंट्रलाइज्ड', 'प्लेटफार्म', '!!', '*', '', 'जो', 'कभी', 'बंद', 'नही', 'हो', 'सकता', 'क्योंकि', 'ये', 'ब्लॉकचेन', 'पर', 'रन', 'करता', 'है!!', '*', 'न', 'कोई', 'एडमिन,ऑनर,', 'एमडी', 'सीएमडी!!', '(ह्यूमन', 'कंट्रोल', 'से', 'बाहर)', '*', 'न', 'कोई', 'क्लोजिंग,', 'न', 'कोई', '', 'मैचिंग,', 'न', 'कोई', 'BV,', 'न', 'कोई', 'लेग', 'मेंटेन,', 'न', 'कोई', 'सामान', 'लेना', 'न', 'कोई', 'खरीदना!!', '*', '100%', 'घर', 'बैठे', 'वर्किंग!!', '*', 'ना', 'कोई', 'फील्ड', 'वर्क,', 'ना', 'कोई', 'स्पेशल', 'नॉलेज', 'की', 'आवश्यकता!!', '*', 'एक', 'नॉमिनल', 'फीस', 'मात्र', '₹1200से', 'इस', 'बिजनेस', 'को', 'चालू', 'किया', 'जा', 'सकता', 'है।', '*स्टेबल', 'coin', 'मतलब', 'बिजनेस', 'को', 'चालू', 'करने', 'में', 'आज', 'जितना', 'पैसा', 'लगेगा', 'उतना', 'ही', 'पैसा', '2साल', 'बाद', 'भीu', 'लगेगा,', 'फीस', 'स्थिर', 'होने', 'के', 'कारण', 'जॉइनिंग', 'रेसियो', 'कम', 'नहीं', 'होगा', '*दोस्तो', 'इतना', 'कम', 'समय', 'में,', 'इतना', 'कम', 'अमाउंट', 'में', 'इतना', 'शानदार', 'बिजनेस', 'अगर', 'आपको', 'शुरुवात', 'करने', 'का', 'मौका', 'मिल', 'रहा', 'है', 'तो', 'ये', 'जरूर', 'उस', 'परमपिता', 'परमेश्वर', 'की', 'कृपा', 'है!!*', '*आपका', 'सपना', 'इस', 'प्लेटफार्म', 'में', 'बहुत', 'ही', 'कम', 'समय', 'में', 'पूरा', 'होने', 'वाला', 'है!', 'तो', '', 'एक', 'बार', 'इस', 'पुरे', 'प्लान', 'को', 'जानने', 'के', 'लिए', 'संपर्क', 'करें', '📲https://chat.whatsapp.com/IZBZ1WSDZPfD5Hae3xKk10', 'Dang', 'delicious', '🤤', 'Really', 'good!', \"Here's\", 'something', 'else', 'you', 'could', 'say', 'instead', 'of', 'delicious.', '...', 'My', 'favourite', '😋😋😋😋😋😋😋😋😋😋😋😋😋😋', '😍😍', '@veronika_rivas', 'Pav', 'Bhaji', 'so', 'yummy', 'yummy', 'yummy', 'yummy👌👌👌👌👌👌', \"I'm\", 'drooling', '🤤🤤🤤', 'So', 'yummy', '😋', 'Tasty', '😋', 'Follow', 'us', 'to', 'know', 'about', 'Indian', 'Cooking', 'and', 'spices', 'home', 'delivered!', 'Experience', 'the', 'uniqueness', 'of', 'the', 'Indian', 'Villages', 'bought', 'to', 'you!', '🔥', 'Pav', 'Bhaji', 'is', 'looooove🔥❤️❤️', '😍', '😍', 'Good', 'morning', 'with', 'good', '&', 'tasty', '#poha', '#indore', '#dewas', '#ujjain', '#pune', '#bangluru', '#davv', '#student', '#bhanwarkua', '#jaipur', 'Vada', 'in', 'curd...', '😍😍😍😍😍', 'White', 'sauce', 'pasta', '😍😍😍😍', '#indore', '#dewas', '#ujjain', '#bhopal', '#delhi', '#mumbai', '#bhawarkua', '#navlakha', '#vishnupuri', '#davv', '#gurukripa', '#shreeleela', '#nightout', '#hangover', '#royalchellenger', '#royalstage', '#daru', '#party', '#birthday', 'Kis', 'kis', 'ne', 'khai', 'bhaiya...?', 'Naam', 'kya', 'hai', 'iska...?', 'Kisne', 'kitne', 'rs.', 'Ki', 'kitni', 'khai', 'hai..?', '😊😊😊😊😊😊😊😊😊😊😊', 'Guess', 'the', 'pizza', 'name...?', '#poha', '🤤🤤', 'Good', 'morning', 'Bachapan', 'Ki', 'Yadeinnn😍', '🥰', '.', '.', '.', '.', 'Follow', '@indori_foodiess', 'for', 'more', '.', '.', '.', '.', '@zingyzest', '@thisisdelhi', '@foodiesince96', '@indorizayka', '@indorefoodexplorer', '@swiggyindia', '@zomato', '@dominos_india', '@dominos', '@mcdonaldsinindia', '@mcdonalds', '@dineout_india', '@pizzahut_india', '@pizzahut', '@curly.tales', '@dilsefoodie', '@chatpati_shikha', '@foodienation.india', '@veggiepaaji', '@visa2explore', '@therealharryuppal', '@eattreat', '@hmm_nikhil', '@priyankaatiwari', '@bhookasaand', '@delhifoodwalks', '@tasty_street_food', '@instagram', '@youtubeswadofficial', '@temptingtastebud', '@tempting_tales', '#indori_foodiess', '#bachapan', '#gujratifood', '#desifood', '#indoreblogger', '#indore', '#instareel', '#reelinstagram', '#reelitfeelit', '#paneer', '#feelkaroreelkaro', '#explorepage', '#trending', '#trend', '#view', '#italianfood', '#taste', '#reelforit', '#instagram', '#newchallange', '#reels', '#foodies', '#streatfood', '#indiansnacks', '#instadaily', 'Nice', 'one', 'Gulab', 'lacche', '😍😍', '❤️', 'Still', 'available?', 'Lachi😍', 'Gulb', 'lacchi', 'Most', 'tempting', 'food', 'in', 'the', 'childhood.😋', '😍😍', 'Veg', 'Cheese', 'Burgers🍔', '.', '.', '.', '.', 'Taste:⭐⭐⭐⭐⭐', '.', '.', '.', '.', 'Place:', '@theburp.in', '.', '.', '.', '.', 'Follow', '@indori_foodiess', 'for', 'more', '.', '.', '.', '.', '@zingyzest', '@thisisdelhi', '@foodiesince96', '@indorizayka', '@indorefoodexplorer', '@swiggyindia', '@zomato', '@dominos_india', '@dominos', '@mcdonaldsinindia', '@mcdonalds', '@dineout_india', '@pizzahut_india', '@pizzahut', '@curly.tales', '@dilsefoodie', '@chatpati_shikha', '@foodienation.india', '@veggiepaaji', '@visa2explore', '@therealharryuppal', '@eattreat', '@hmm_nikhil', '@priyankaatiwari', '@bhookasaand', '@delhifoodwalks', '@tasty_street_food', '@instagram', '@youtubeswadofficial', '@temptingtastebud', '@tempting_tales', '#indori_foodiess', '#burger', '#desifood', '#indoreblogger', '#indore', '#instareel', '#reelinstagram', '#reelitfeelit', '#feelkaroreelkaro', '#explorepage', '#trending', '#trend', '#view', '#italianfood', '#reelforit', '#instagram', '#newchallange', '#reels', '#foodies', '#streatfood', '#indiansnacks', '#instadaily', 'So', 'amazing😍', '👏👏', 'Delicious😍', 'This', 'looks', 'so', 'appatizingly', 'awesome.', 'Veg', 'Cheese', 'Burger', 'is', 'all', 'time', 'favourite', '😋', 'Looks', 'amazing', '❤️', 'Wow', 'looks', 'so', 'amazing😍😍😍', 'and', 'so', 'yummy', 'yummy', '😋😋😋', '😍😍', 'Super😍', 'Delicious', '😋', 'Chinese', 'Platter..', '.', '.', 'Place-', '@nivis_cafe', '.', '.', 'Taste-', '2/5', '.', '.', 'Follow', '@indori_foodiess', 'For', 'More', 'Updates..', '.', '.', '#indori_foodiess', '#indoreblogger', '#indore', '#chinesefood', '#chinese', '#veg', '#vegetarian', '#instafood', '#instareel', '#instagram', '#trendingreels', '#viral', '#photography', '#streetfood', '#foodphotography', '#foodie', '#foodstagram', '#foodblogger', 'Pasta❤', '.', '.', 'Place-', '@xerodegrees_india', '.', '.', 'Follow', '@indori_foodiess', 'For', 'More', 'Updates..', '.', '.', '#indori_foodiess', '#indoreblogger', '#indore', '#indorefood', '#foodie', '#foodstagram', '#foodblogger', '#streetfood', '#pasta', '#cheese', '#cream', '#photography', '#streetphotography', '#trending', '#trend', '#viral', '#foodphotography', '#foodgasm', 'pasta', 'is', '❤️', '😍😍😍😍', 'Momos..', '.', '.', 'Place-', '@momo_binge', '.', '.', 'Follow', '@indori_foodiess', 'For', 'More', 'Updates...', '.', '.', '#indori_foodiess', '#indoreblogger', '#indore', '#momos', '#momo', '#spicy', '#instafood', '#instagram', '#reelsinstagram', '#trend', '#viral', '#foodie', '#foodstagram', '#foodblogger', '#blogger', '#food', '😍😍😍', '😍😍😍', 'Cold', 'Coffee❤❤', '.', '.', 'Place-', '@90zcoffee', '.', '.', 'Follow', '@indori_foodiess', 'For', 'More', 'Updates..', '.', '.', '#indori_foodiess', '#indoreblogger', '#indore', '#indorefood', '#coldcoffee', '#coffee', '#brownies', '#funny', '#foodstagram', '#foodblogger', '#instagram', '#trending', '#trend', '#viral', '#photography', '#videography', '😍😍😍', 'Nice', 'one', 'Woow', 'this', 'is', 'so', 'good', '👍', '😍😍', '😍😍', '😍😍😍', 'Chai', 'Lovers..❤❤', '.', '.', 'Place-', 'Indore', '.', '.', 'Follow', '@indori_foodiess', 'For', 'More', 'Updates..', '.', '.', '#indori_foodiess', '#indoreblogger', '#indorefood', '#indorizayka', '#chai', '#chailover', '#tea', '#tealover', '#streetfood', '#streetphotography', '#photography', '#trending', '#trend', '#reelsinstagram', '#reelinstagram', '#instafood', '#instagram', '#foodie', '#foodstagram', '#foodblogger', 'White', 'Sauce', 'Pasta❤❤', '.', '.', 'Place-', '@sukun.thepeacecafe_', '.', '.', 'Follow', '@indori_foodiess', 'For', 'More', 'Updates..', '.', '.', '#indori_foodiess', '#indoreblogger', '#indorediaries', '#indore', '#indori', '#pasta', '#whitesaucepasta', '#vegetarian', '#instagood', '#instafood', '#instagram', '#instaphoto', '#foodblog', '#foodie', '#foodstagram', '#reelsinstagram', '#trending', '#trend', '#trendingreels', '#viral', '#feed', '#festiveseason', '#festivevibes', '#photography', 'Yummm', '😍', 'Yummmmy😍', 'Sizzler😋😋', '.', '.', 'Place-', '@momo_binge', '.', '.', 'Follow', '@indori_foodiess', 'For', 'More', 'Updates..', '.', '.', '#indori_foodiess', '#indoregram', '#indoreblogger', '#indorediaries', '#indore', '#indorefood', '#indori', '#momos', '#sizzler', '#vegetarian', '#chinese', '#chinesefood', '#instagood', '#insta', '#instafood', '#instareel', '#reelsinstagram', '#instadaily', '#instagram', '#foodie', '#foodstagram', '#foodblogger', '#streetfood', '#streetfoodindia', '#foodphotography', '#streetphotography', 'Super', 'tempting', '🔥🔥🙌🙌', '😍😍😍', '😍😍', '😍😍', 'Veg', 'Burger😋', '.', '.', 'Place-', '@90zcoffee', '.', '.', 'Follow', '@indori_foodiess', 'For', 'More', 'Updates.', '.', '.', '#indori_foodiess', '#indoregram', '#indoreblogger', '#indorediaries', '#indore', '#indorefood', '#indori', '#indorizayka', '#burger', '#burgers', '#vegetarian', '#veg', '#instagood', '#insta', '#instafood', '#instadaily', '#instareel', '#instagram', '#trending', '#trend', '#reelsinstagram', '#foodie', '#foodstagram', '#foodblogger', '#foodphotography', '#streetfood', '#streetfoodindia', 'Absolute', 'Legends🤒', '.', '.', '.', '#dewasfood', '#dewasiii', '#dewas', '#dewaseksapnokashahar', '#dewascity', '#dewasmakeupartist', '#dewasfoodies', '#mp41', '#hellodewas', '#dewaslive', '#dewasnews', '#dewasnewslive', '#dewasmomos', '#explorepage', '#momos', '#foodexplore', '🔥', 'Trends', 'in', 'Dewas', 'Now', 'Shop', 'Brands', 'in', 'Dewas', 'at', 'Huge', 'Discounts.', 'For', 'more', 'follow', '@dewasiii', '.', '.', '.', '#dewas', '#dewasiii', '#dewascity', '#dewastrends', '#reliancetrends', '#mp41', '#hellodewas', '#exploredewas', 'कठीन', 'samay', 'Dewas', 'main', 'bhi', 'achhe', 'roll', 'milte', 'hai.', 'Dish', ':', 'Noodles', 'egg', 'roll', 'Place', ':', 'Nigam', 'rolls,', 'chat', 'chopati', 'dewas', '.', '.', '.', '#dewas', '#dewasiii', '#dewasfood', '#dewaseksapnokashahar', '#hellodewas', '#mp41', 'KFC', 'Burger', 'with', 'trading', 'perfect', 'combination', '🤒❤️', 'For', 'more', 'follow', '@dewasiii', '#dewasiii', '#dewasfood', '#dewas', '#dewaseksapnokashahar', '#mp41', '#apnadewas', 'Hey', 'dewasiii’s', 'get', '30%', 'off', 'on', 'domino’s', 'pizza', 'with', 'our', 'code', '“LUCKY0501”', 'Delicious', 'pizza', 'to', 'be', 'delivered', 'to', 'you', 'within', '30', 'min?', 'Easy!', 'The', 'cozy', 'ambience', 'of', 'an', 'evening', 'and', 'the', 'secret', 'recipe', 'for', 'a', 'perfect', 'end', 'to', 'the', 'day,', 'especially', 'if', 'you', 'have', 'had', 'a', 'long', 'day', 'at', 'work', 'is', 'when', 'we', 'just', 'want', 'to', 'relax', 'with', 'scented', 'candles,', 'pour', 'our', 'favorite', 'drinks', 'into', 'glasses,', 'select', 'an', 'appropriate', 'film', 'and', 'complement', 'everything', 'with', 'our', 'very', 'own,', 'delicious', \"Domino's\", 'pizza.', 'Placing', 'an', 'order', 'here', 'at', \"Domino's\", 'is', 'easy', 'and', 'it', 'will', 'be', 'delivered', 'at', 'your', 'doorstep', 'within', '30', 'minutes!', 'Follow', 'my', 'link', 'in', 'bio,', 'use', 'my', 'promo', 'code', 'LUCKY0501', 'and', 'get', '30%', 'off', 'your', 'first', 'order!', '(*minimum', 'order', 'Rs', '500,', 'maximum', 'discount', 'up', 'to', 'Rs', '200).', 'Every', 'evening', 'can', 'be', 'great', 'if', 'you', 'are', 'willing', 'to', 'make', 'it', 'so!', 'Ek', 'hi', 'to', 'dil', 'hai', 'kitni', 'baar', 'Jeetoge', '?', '🍝', '.', '.', '.', '#dewasiii', '#dewasfood', '#noodles', '#dewasnoodles', '#dewasians', '#dewasupdate', '#dewaseksapnokashahar', '#dewaslife', '#dewastekri', '#dewaswale', '#dewasunseen', '#dewasthedreamcity', '#dewaslalgate', '#dewaslove', '#dewas', '#dewasnavratri', '#dewassayajigate', '#dewasmerijaan', '#mustryfood', '#dewastaste', '#mp41', '#dewasmp41', 'Looks', 'so', 'tempting', 'Feeling', 'downie,', 'eat', 'brownie!', '❤👀', '.', '.', '.', '➡️', 'Food', '->', 'Chocolate', 'Brownie', '📍Location', '-', 'Ambika', 'Sweets,', 'Indore', '❤️', 'TAG', 'your', 'Friends', '👬,', 'Explore', '🔭', 'and', 'Share', '📤', '.', '➖➖➖➖➖➖➖➖➖➖➖➖➖➖➖➖➖➖', '.', '#dewasians', '#dewasupdate', '#dewaseksapnokashahar', '#dewaslife', '#dewastekri', '#dewaswale', '#dewasunseen', '#dewasthedreamcity', '#dewaslalgate', '#dewaslove', '#dewas', '#dewasnavratri', '#dewassayajigate', '#dewasmerijaan', '#mustryfood', '#dewastaste', '#dewasiii', '#ourmp41', '#mp41', '#dewasmp41', '#dewasfood', 'Want', 'to', 'have', 'some', 'Sev', 'Puri?', 'Comment', 'down!', '❤', '.', '.', '.', '➡️', 'Food', '->', 'Sev', 'Puri', '📍Location', '-', 'Jawahar', 'Chowk', '❤️', 'TAG', 'your', 'Friends', '👬,', 'Explore', '🔭', 'and', 'Share', '📤', '.', '➖➖➖➖➖➖➖➖➖➖➖➖➖➖➖➖➖➖', '.', '•', 'Exploring', 'different', 'food', 'of', 'dewas.', '➡️', 'Follow', ':', '@dewasiii', 'Hashtag', '#dewasiii', '.', '➖➖➖➖➖➖➖➖➖➖➖➖➖➖➖➖➖➖', '.', '👉🏻', 'Tag', 'your', 'Friends', '.👫👈🏻', '.', '🔹🔹🔹🔹🔹🔹🔹🔹🔹🔹🔹🔹🔹🔹🔹🔹🔹🔹', '.', '.', '.', '.', '#dewasians', '#dewasupdate', '#dewaseksapnokashahar', '#dewaslife', '#dewastekri', '#dewaswale', '#dewasunseen', '#dewasthedreamcity', '#dewaslalgate', '#dewaslove', '#dewas', '#dewasnavratri', '#dewassayajigate', '#dewasmerijaan', '#mustryfood', '#dewastaste', '#dewasiii', '#ourmp41', '#mp41', '#dewasmp41', '#dewasfood', 'PoV', ':', 'you', 'started', 'exploring', 'your', 'city', 'after', 'a', 'heartbreak', '💔', 'And', 'you', 'realise,', 'you', 'have', 'beautiful', 'city', 'to', 'live', 'in😌✨']\n"
     ]
    }
   ],
   "source": [
    "full_data=[]\n",
    "all_words=[]\n",
    "for acnt in data.name:\n",
    "    temp_data=[]\n",
    "    lis=[1,2,3,4,5]\n",
    "    time.sleep(random.choice(lis))\n",
    "    driver.get(f\"https://www.instagram.com/{acnt}/\")\n",
    "    wait.until(EC.presence_of_element_located((By.PARTIAL_LINK_TEXT,\"follow\")))\n",
    "    followers=driver.find_elements(By.CSS_SELECTOR,\"span._ac2a\")[1].text\n",
    "    ele=driver.find_element(By.CSS_SELECTOR,\"div._aagw\")\n",
    "    ele.click()\n",
    "    num_of_post=0\n",
    "    while num_of_post<10:\n",
    "        wait.until(EC.presence_of_element_located((By.CSS_SELECTOR,\"span._aacl._aaco._aacu._aacx._aad7._aade\")) )  \n",
    "        elements=driver.find_elements(By.CSS_SELECTOR,\"span._aacl._aaco._aacu._aacx._aad7._aade\")\n",
    "        for elem in elements:\n",
    "            content=bs(elem.get_attribute(\"outerHTML\"),\"html.parser\")\n",
    "            lst=list(content.stripped_strings)\n",
    "            for i in lst:\n",
    "                word=i.split(\" \")\n",
    "                all_words.extend(word)\n",
    "        time.sleep(random.choice(lis))\n",
    "        # search for the next button \n",
    "        try:\n",
    "            next=driver.find_element(By.CSS_SELECTOR,\"div._aaqg._aaqh\")\n",
    "            next.click()\n",
    "        except:\n",
    "            break\n",
    "        num_of_post+=1\n",
    "print(all_words)"
   ]
  },
  {
   "cell_type": "markdown",
   "id": "05134718",
   "metadata": {},
   "source": [
    "# Step 2\n",
    "*********************************************************\n",
    "we have a list of words that we have encountered   \n",
    "now we just use it pandas library and convert it into dataframe  \n",
    "now we use count function of the pandas library and we get the word count\n",
    "then we just convert it into csv file using inbuilt function of pandas library\n",
    "\n",
    "*********************************************************"
   ]
  },
  {
   "cell_type": "code",
   "execution_count": 7,
   "id": "9b21a8a5",
   "metadata": {},
   "outputs": [
    {
     "data": {
      "text/html": [
       "<div>\n",
       "<style scoped>\n",
       "    .dataframe tbody tr th:only-of-type {\n",
       "        vertical-align: middle;\n",
       "    }\n",
       "\n",
       "    .dataframe tbody tr th {\n",
       "        vertical-align: top;\n",
       "    }\n",
       "\n",
       "    .dataframe thead th {\n",
       "        text-align: right;\n",
       "    }\n",
       "</style>\n",
       "<table border=\"1\" class=\"dataframe\">\n",
       "  <thead>\n",
       "    <tr style=\"text-align: right;\">\n",
       "      <th></th>\n",
       "      <th>words</th>\n",
       "      <th>count</th>\n",
       "    </tr>\n",
       "  </thead>\n",
       "  <tbody>\n",
       "    <tr>\n",
       "      <th>0</th>\n",
       "      <td>.</td>\n",
       "      <td>131</td>\n",
       "    </tr>\n",
       "    <tr>\n",
       "      <th>1</th>\n",
       "      <td>the</td>\n",
       "      <td>61</td>\n",
       "    </tr>\n",
       "    <tr>\n",
       "      <th>2</th>\n",
       "      <td>to</td>\n",
       "      <td>56</td>\n",
       "    </tr>\n",
       "    <tr>\n",
       "      <th>3</th>\n",
       "      <td>and</td>\n",
       "      <td>46</td>\n",
       "    </tr>\n",
       "    <tr>\n",
       "      <th>4</th>\n",
       "      <td>a</td>\n",
       "      <td>37</td>\n",
       "    </tr>\n",
       "    <tr>\n",
       "      <th>...</th>\n",
       "      <td>...</td>\n",
       "      <td>...</td>\n",
       "    </tr>\n",
       "    <tr>\n",
       "      <th>1801</th>\n",
       "      <td>sooo</td>\n",
       "      <td>1</td>\n",
       "    </tr>\n",
       "    <tr>\n",
       "      <th>1802</th>\n",
       "      <td>@jo210391</td>\n",
       "      <td>1</td>\n",
       "    </tr>\n",
       "    <tr>\n",
       "      <th>1803</th>\n",
       "      <td>brilliant!</td>\n",
       "      <td>1</td>\n",
       "    </tr>\n",
       "    <tr>\n",
       "      <th>1804</th>\n",
       "      <td>Absolutely</td>\n",
       "      <td>1</td>\n",
       "    </tr>\n",
       "    <tr>\n",
       "      <th>1805</th>\n",
       "      <td>in😌✨</td>\n",
       "      <td>1</td>\n",
       "    </tr>\n",
       "  </tbody>\n",
       "</table>\n",
       "<p>1806 rows × 2 columns</p>\n",
       "</div>"
      ],
      "text/plain": [
       "           words  count\n",
       "0              .    131\n",
       "1            the     61\n",
       "2             to     56\n",
       "3            and     46\n",
       "4              a     37\n",
       "...          ...    ...\n",
       "1801        sooo      1\n",
       "1802   @jo210391      1\n",
       "1803  brilliant!      1\n",
       "1804  Absolutely      1\n",
       "1805        in😌✨      1\n",
       "\n",
       "[1806 rows x 2 columns]"
      ]
     },
     "execution_count": 7,
     "metadata": {},
     "output_type": "execute_result"
    }
   ],
   "source": [
    "import pandas\n",
    "import numpy\n",
    "word_list=pd.DataFrame(all_words)\n",
    "# data[0]value_counts\n",
    "word_list.columns=[\"words\"]\n",
    "df=word_list.words.value_counts()\n",
    "df=pd.DataFrame(df)\n",
    "df =df[df.words != \"\"]\n",
    "df.columns=[\"count\"]\n",
    "df.to_csv(\"word_count.csv\",index_label=\"words\")\n",
    "df=pd.read_csv(\"word_count.csv\")\n",
    "df"
   ]
  },
  {
   "cell_type": "markdown",
   "id": "4f52c9e7",
   "metadata": {},
   "source": [
    "# Step 3\n",
    " *************************************************\n",
    " \n",
    " in order to show how many hashtags counts are there we use thefunction that gives us the indexvalue of the rows in which # is  present once we get this rows we can get this values and plot it on a pie plot\n",
    " ******************************************************"
   ]
  },
  {
   "cell_type": "code",
   "execution_count": 8,
   "id": "80ec55e1",
   "metadata": {},
   "outputs": [
    {
     "data": {
      "image/png": "[encoded data removed]",
      "text/plain": [
       "<Figure size 432x288 with 1 Axes>"
      ]
     },
     "metadata": {},
     "output_type": "display_data"
    }
   ],
   "source": [
    "ind=df[\"words\"].str.contains(\"#\",na=False)\n",
    "hash_tags=df[ind]\n",
    "sns.set_palette(palette=\"bright\")\n",
    "hash_tags.index\n",
    "hash_tags.reset_index(drop=True)\n",
    "hash_tags=hash_tags.iloc[:5]\n",
    "plt.pie(hash_tags[\"count\"],labels=hash_tags[\"words\"],autopct=\"%.f\",radius=1)\n",
    "plt.title(\"Tags Distribution\" ,fontsize=50)\n",
    "plt.show()\n"
   ]
  },
  {
   "cell_type": "markdown",
   "id": "a030a807",
   "metadata": {},
   "source": [
    "# Question 3 \n",
    "******************************************************************\n",
    "\n",
    "You need to also calculate average followers : likes ratio for the obtained handles.\n",
    "Followers : Likes ratio is calculated as follows:\n",
    "Find out the likes of the top 10 posts of the 5 handles obtained earlier.\n",
    "Calculate the average likes for a handle.\n",
    "Divide the average likes obtained from the number of followers of the handle to get the average followers:like ratio of each handle.\n",
    "Create a bar graph to depict the above obtained information.\n",
    "\n",
    "\n",
    "\n",
    "******************************************************************"
   ]
  },
  {
   "cell_type": "markdown",
   "id": "b2bc62e7",
   "metadata": {},
   "source": [
    "# step 1\n",
    "*****************************************\n",
    "we need to go to the first 5 accounts and visit the profile page, we already have in the database  their followers.  \n",
    "we will go to each account start with the first post scrap the likes of posts and sum it to the total_likes  \n",
    "we will then calculate the like : follower ratio and attach it to list of lists \n",
    "and create data frame out of it we will then depict it in the required format\n",
    "\n",
    "*******************************************"
   ]
  },
  {
   "cell_type": "code",
   "execution_count": 11,
   "id": "193f67b9",
   "metadata": {},
   "outputs": [],
   "source": [
    "\n",
    "import random\n",
    "import time\n",
    "import re\n",
    "\n",
    "from bs4 import BeautifulSoup as bs\n",
    "full_data=[]\n",
    "all_words=[]\n",
    "account_vs_ratio=[]\n",
    "\n",
    "for acnt in data.name:\n",
    "    wait=WebDriverWait(driver,10)\n",
    "    total_likes=0\n",
    "    temp_data=[]\n",
    "    lis=[1,2,3,4,5]\n",
    "    time.sleep(random.choice(lis))\n",
    "    driver.get(f\"https://www.instagram.com/{acnt}/\")\n",
    "    wait.until(EC.presence_of_element_located((By.PARTIAL_LINK_TEXT,\"follow\")))\n",
    "    ele=driver.find_element(By.CSS_SELECTOR,\"div._aagw\") \n",
    "    ele.click()\n",
    "    num_of_post=0\n",
    "    wait=WebDriverWait(driver,2)\n",
    "    while num_of_post<10:\n",
    "        try:\n",
    "            wait.until(EC.presence_of_element_located((By.CSS_SELECTOR,\"div._aacl._aaco._aacw._aacx._aada._aade span\")) )  \n",
    "            elem=driver.find_element(By.CSS_SELECTOR,\"div._aacl._aaco._aacu._aacx._aad6._aade div._aacl._aaco._aacw._aacx._aada._aade span\")\n",
    "            likes=elem.text.replace(\",\",\"\")\n",
    "            total_likes+=int(likes)\n",
    "        except:\n",
    "            total_likes+=followers\n",
    "        try:\n",
    "            next=driver.find_element(By.CSS_SELECTOR,\"div._aaqg._aaqh\")\n",
    "            next.click()\n",
    "        except:\n",
    "            break\n",
    "        num_of_post+=1\n",
    "    avrg_likes=total_likes/10\n",
    "    followers=data[data.name==acnt][\"followers\"].values[0]\n",
    "    ratio=avrg_likes/followers\n",
    "    account_vs_ratio.append([acnt,ratio,avrg_likes])\n",
    "    time.sleep(2)\n"
   ]
  },
  {
   "cell_type": "code",
   "execution_count": 14,
   "id": "f43e4a25",
   "metadata": {},
   "outputs": [
    {
     "data": {
      "text/html": [
       "<div>\n",
       "<style scoped>\n",
       "    .dataframe tbody tr th:only-of-type {\n",
       "        vertical-align: middle;\n",
       "    }\n",
       "\n",
       "    .dataframe tbody tr th {\n",
       "        vertical-align: top;\n",
       "    }\n",
       "\n",
       "    .dataframe thead th {\n",
       "        text-align: right;\n",
       "    }\n",
       "</style>\n",
       "<table border=\"1\" class=\"dataframe\">\n",
       "  <thead>\n",
       "    <tr style=\"text-align: right;\">\n",
       "      <th></th>\n",
       "      <th>account_name</th>\n",
       "      <th>ratio</th>\n",
       "      <th>average</th>\n",
       "    </tr>\n",
       "  </thead>\n",
       "  <tbody>\n",
       "    <tr>\n",
       "      <th>0</th>\n",
       "      <td>foodtalkindia</td>\n",
       "      <td>0.004817</td>\n",
       "      <td>144.5</td>\n",
       "    </tr>\n",
       "    <tr>\n",
       "      <th>1</th>\n",
       "      <td>food</td>\n",
       "      <td>1.006272</td>\n",
       "      <td>18112.9</td>\n",
       "    </tr>\n",
       "    <tr>\n",
       "      <th>2</th>\n",
       "      <td>indian_tasty_food</td>\n",
       "      <td>0.137450</td>\n",
       "      <td>2199.2</td>\n",
       "    </tr>\n",
       "    <tr>\n",
       "      <th>3</th>\n",
       "      <td>indori_foodiess</td>\n",
       "      <td>0.026271</td>\n",
       "      <td>171.1</td>\n",
       "    </tr>\n",
       "    <tr>\n",
       "      <th>4</th>\n",
       "      <td>dewasiii</td>\n",
       "      <td>0.046870</td>\n",
       "      <td>220.9</td>\n",
       "    </tr>\n",
       "  </tbody>\n",
       "</table>\n",
       "</div>"
      ],
      "text/plain": [
       "        account_name     ratio  average\n",
       "0      foodtalkindia  0.004817    144.5\n",
       "1               food  1.006272  18112.9\n",
       "2  indian_tasty_food  0.137450   2199.2\n",
       "3    indori_foodiess  0.026271    171.1\n",
       "4           dewasiii  0.046870    220.9"
      ]
     },
     "execution_count": 14,
     "metadata": {},
     "output_type": "execute_result"
    },
    {
     "data": {
      "image/png": "[encoded data removed]",
      "text/plain": [
       "<Figure size 432x288 with 1 Axes>"
      ]
     },
     "metadata": {},
     "output_type": "display_data"
    }
   ],
   "source": [
    "acnt_ratio=pd.DataFrame(account_vs_ratio)\n",
    "acnt_ratio.columns=[\"account_name\",\"ratio\",\"average\"]\n",
    "\n",
    "sns.barplot(x=\"ratio\",y=\"account_name\",data=acnt_ratio)\n",
    "acnt_ratio"
   ]
  }
 ],
 "metadata": {
  "kernelspec": {
   "display_name": "Python 3 (ipykernel)",
   "language": "python",
   "name": "python3"
  },
  "language_info": {
   "codemirror_mode": {
    "name": "ipython",
    "version": 3
   },
   "file_extension": ".py",
   "mimetype": "text/x-python",
   "name": "python",
   "nbconvert_exporter": "python",
   "pygments_lexer": "ipython3",
   "version": "3.9.7"
  }
 },
 "nbformat": 4,
 "nbformat_minor": 5
}
